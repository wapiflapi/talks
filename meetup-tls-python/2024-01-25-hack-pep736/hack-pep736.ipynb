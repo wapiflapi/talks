{
 "cells": [
  {
   "cell_type": "markdown",
   "id": "ad921531",
   "metadata": {
    "editable": true,
    "slideshow": {
     "slide_type": "slide"
    },
    "tags": []
   },
   "source": [
    "# Meet-Up Python Toulouse\n",
    "\n",
    "January 25th, 2024 \n",
    "\n",
    "\n",
    "### Bytecode & introspection: a hack for PEP 736\n",
    "Wannes Rombouts\n"
   ]
  },
  {
   "cell_type": "code",
   "execution_count": 22,
   "id": "1029ddd1",
   "metadata": {
    "editable": true,
    "slideshow": {
     "slide_type": "slide"
    },
    "tags": []
   },
   "outputs": [],
   "source": [
    "name = \"Wannes Rombouts\"\n",
    "nickname = \"wapiflapi\"\n",
    "is_speaker = True"
   ]
  },
  {
   "cell_type": "code",
   "execution_count": 23,
   "id": "301356fa",
   "metadata": {
    "editable": true,
    "scrolled": true,
    "slideshow": {
     "slide_type": "fragment"
    },
    "tags": []
   },
   "outputs": [
    {
     "name": "stdout",
     "output_type": "stream",
     "text": [
      "Find me at wapiflapi.com\n",
      "... and on linkedin as Wannes Rombouts\n"
     ]
    }
   ],
   "source": [
    "print(f\"Find me at {nickname}.com\")\n",
    "print(f\"... and on linkedin as {name}\")"
   ]
  },
  {
   "cell_type": "code",
   "execution_count": 24,
   "id": "6cba52b9-9a0a-46b9-8555-3e2bb2e0d6e5",
   "metadata": {
    "editable": true,
    "slideshow": {
     "slide_type": "slide"
    },
    "tags": []
   },
   "outputs": [
    {
     "data": {
      "text/plain": [
       "'3.11.0rc1 (main, Aug 12 2022, 10:02:14) [GCC 11.2.0]'"
      ]
     },
     "execution_count": 24,
     "metadata": {},
     "output_type": "execute_result"
    }
   ],
   "source": [
    "import sys\n",
    "sys.version"
   ]
  },
  {
   "cell_type": "markdown",
   "id": "9e44254e-2ccc-45e1-9c8a-92e7403e0d0a",
   "metadata": {
    "editable": true,
    "slideshow": {
     "slide_type": "slide"
    },
    "tags": []
   },
   "source": [
    "# **a hack** for PEP 736"
   ]
  },
  {
   "cell_type": "markdown",
   "id": "14b0a8d0-d909-453d-a8bc-d7754fc27593",
   "metadata": {
    "editable": true,
    "slideshow": {
     "slide_type": ""
    },
    "tags": []
   },
   "source": [
    "### Shorthand syntax for keyword arguments at invocation\n",
    "\n",
    "- Author: **Joshua Bambrick** <jbambrick at google.com>, Chris Angelico <rosuav at gmail.com>\n",
    "- Status: **Draft**\n",
    "- Created: 28-Nov-2023\n",
    "- Python-Version: 3.13\n"
   ]
  },
  {
   "cell_type": "code",
   "execution_count": 5,
   "id": "08e95b0e-b4fc-4563-9a5e-53b45a46a877",
   "metadata": {
    "editable": true,
    "slideshow": {
     "slide_type": "slide"
    },
    "tags": []
   },
   "outputs": [
    {
     "name": "stdout",
     "output_type": "stream",
     "text": [
      "Wannes Rombouts, aka wapiflapi, is_speaker=True\n"
     ]
    }
   ],
   "source": [
    "def some_function(name: str, nickname: str, is_speaker: bool):\n",
    "    print(f\"{name}, aka {nickname}, {is_speaker=}\")\n",
    "\n",
    "some_function(\n",
    "    name=name,\n",
    "    nickname=nickname,\n",
    "    is_speaker=is_speaker,\n",
    ")"
   ]
  },
  {
   "cell_type": "code",
   "execution_count": 6,
   "id": "7cc4d802-d817-48b1-8d93-5b3150dc6f55",
   "metadata": {
    "editable": true,
    "slideshow": {
     "slide_type": "slide"
    },
    "tags": []
   },
   "outputs": [],
   "source": [
    "data = {\n",
    "    \"name\": name,\n",
    "    \"nickname\": nickname,\n",
    "}\n",
    "\n",
    "data = dict(\n",
    "    name=name,\n",
    "    nickname=nickname,\n",
    ")"
   ]
  },
  {
   "cell_type": "markdown",
   "id": "f645516b-31b1-467c-97ed-7f0711b7c9f7",
   "metadata": {
    "editable": true,
    "slideshow": {
     "slide_type": "slide"
    },
    "tags": []
   },
   "source": [
    "### PEP 736\n",
    "\n",
    "```python\n",
    "some_function(name=, nickname=, is_speaker=)\n",
    "```\n",
    "\n",
    "- Encourages use of named variables\n",
    "- Reduces verbosity\n",
    "- Encourages consistent variable names\n",
    "- Applicability to dictionary construction"
   ]
  },
  {
   "cell_type": "markdown",
   "id": "5dad7950-197b-4a92-ba1c-2b5758775e17",
   "metadata": {
    "editable": true,
    "slideshow": {
     "slide_type": "slide"
    },
    "tags": []
   },
   "source": [
    "### Where did we steal that from?\n",
    "\n",
    "- In Ruby: `f(x:, y:)` -> `f(x: x, y: y)`\n",
    "- In ReasonML: `f(~x, ~y)` -> `f(~x=x, ~y=y)`\n",
    "- In SystemVerilog: `(.mult, .mop1, .data);` -> `(.mult(mult), .mop1(mop1), .data(data));`\n",
    "\n",
    "Beyond function invocation specifically, more languages offer similar features:\n",
    "\n",
    "- In OCaml: `let+ x in …` -> `let+ x = x in …`\n",
    "- In JavaScript: `{ x, y }` -> `{x: x, y: y}`\n",
    "- In Rust: `User { x, y }` -> `User {x: x, y: y}`"
   ]
  },
  {
   "cell_type": "markdown",
   "id": "de5ce513-ce52-4cc6-8e05-abb85f1b9fdd",
   "metadata": {
    "editable": true,
    "slideshow": {
     "slide_type": "slide"
    },
    "tags": []
   },
   "source": [
    "# Why wait for python 3.13 ?"
   ]
  },
  {
   "cell_type": "markdown",
   "id": "4272d6e9-1be7-47f8-bd65-495be1e23118",
   "metadata": {
    "editable": true,
    "slideshow": {
     "slide_type": "slide"
    },
    "tags": []
   },
   "source": [
    "### What syntax can we use?\n",
    "\n",
    "```python\n",
    "dwim = \"do what I mean!\"\n",
    "\n",
    "some_function(**dwim(\"name\", \"nickname\"))\n",
    "some_function(**dwim(name, nickname))\n",
    "```\n",
    "\n",
    "### But we could go further...\n",
    "\n",
    "```python\n",
    "some_function(**dwim())\n",
    "```\n",
    "\n",
    "# :-)"
   ]
  },
  {
   "cell_type": "code",
   "execution_count": 11,
   "id": "3bc993d6-d85f-48a5-91dd-8ebd62324312",
   "metadata": {
    "editable": true,
    "slideshow": {
     "slide_type": "slide"
    },
    "tags": []
   },
   "outputs": [
    {
     "ename": "NameError",
     "evalue": "name 'dwim' is not defined",
     "output_type": "error",
     "traceback": [
      "\u001b[0;31m---------------------------------------------------------------------------\u001b[0m",
      "\u001b[0;31mNameError\u001b[0m                                 Traceback (most recent call last)",
      "Cell \u001b[0;32mIn[11], line 11\u001b[0m\n\u001b[1;32m      8\u001b[0m     \u001b[38;5;66;03m# It should just work!\u001b[39;00m\n\u001b[1;32m      9\u001b[0m     some_function(\u001b[38;5;241m*\u001b[39m\u001b[38;5;241m*\u001b[39mdwim())\n\u001b[0;32m---> 11\u001b[0m \u001b[43mtest\u001b[49m\u001b[43m(\u001b[49m\u001b[43m)\u001b[49m\n",
      "Cell \u001b[0;32mIn[11], line 9\u001b[0m, in \u001b[0;36mtest\u001b[0;34m()\u001b[0m\n\u001b[1;32m      6\u001b[0m something_else \u001b[38;5;241m=\u001b[39m \u001b[38;5;124m\"\u001b[39m\u001b[38;5;124msome other value\u001b[39m\u001b[38;5;124m\"\u001b[39m\n\u001b[1;32m      8\u001b[0m \u001b[38;5;66;03m# It should just work!\u001b[39;00m\n\u001b[0;32m----> 9\u001b[0m some_function(\u001b[38;5;241m*\u001b[39m\u001b[38;5;241m*\u001b[39m\u001b[43mdwim\u001b[49m())\n",
      "\u001b[0;31mNameError\u001b[0m: name 'dwim' is not defined"
     ]
    }
   ],
   "source": [
    "def some_function(something: str, something_else: str):\n",
    "    print(something)\n",
    "\n",
    "def test():\n",
    "    something = \"some value\"\n",
    "    something_else = \"some other value\"\n",
    "\n",
    "    # It should just work!\n",
    "    some_function(**dwim())\n",
    "\n",
    "test()"
   ]
  },
  {
   "cell_type": "markdown",
   "id": "8e130a83-f34d-4017-8492-fd37ffa3536e",
   "metadata": {
    "editable": true,
    "slideshow": {
     "slide_type": "slide"
    },
    "tags": []
   },
   "source": [
    "# Sounds fun! Let's do that."
   ]
  },
  {
   "cell_type": "markdown",
   "id": "abd1148e-a5af-4f94-b092-9763eadf9d91",
   "metadata": {
    "editable": true,
    "slideshow": {
     "slide_type": "slide"
    },
    "tags": []
   },
   "source": [
    "### PEP 20 – The Zen of Python\n",
    "\n",
    "- Explicit is better than implicit.\n",
    "- In the face of ambiguity, refuse the temptation to guess.\n",
    "- ... lots more reasons"
   ]
  },
  {
   "cell_type": "markdown",
   "id": "7045577b-05a9-4bf1-8987-051e6364c543",
   "metadata": {
    "editable": true,
    "slideshow": {
     "slide_type": "fragment"
    },
    "tags": []
   },
   "source": [
    "**welp. Let's do it anyway!**"
   ]
  },
  {
   "cell_type": "markdown",
   "id": "141ffc61-8a4c-438e-b026-8d681ae0d535",
   "metadata": {
    "editable": true,
    "slideshow": {
     "slide_type": "slide"
    },
    "tags": []
   },
   "source": [
    "# Let's start with some basics.\n",
    "\n",
    "Why do we think this is possible ?"
   ]
  },
  {
   "cell_type": "code",
   "execution_count": 16,
   "id": "9fdc2082-c35e-4662-b63a-d61c7e988207",
   "metadata": {
    "editable": true,
    "slideshow": {
     "slide_type": ""
    },
    "tags": []
   },
   "outputs": [],
   "source": [
    "def some_function(var1, var2):\n",
    "    print(f\"We got two arguments: {var1=}, {var2=}\")\n",
    "\n",
    "def test():\n",
    "    var1 = 1\n",
    "    var2 = 2\n",
    "\n",
    "    # How can we make this work? \n",
    "    some_target_function()"
   ]
  },
  {
   "cell_type": "code",
   "execution_count": 24,
   "id": "1798dca9-38b9-4d1d-8dde-c7f4f19398d0",
   "metadata": {
    "editable": true,
    "slideshow": {
     "slide_type": "slide"
    },
    "tags": []
   },
   "outputs": [
    {
     "name": "stdout",
     "output_type": "stream",
     "text": [
      "We got two arguments: var1=1, var2=2\n"
     ]
    }
   ],
   "source": [
    "def some_function(var1, var2):\n",
    "    print(f\"We got two arguments: {var1=}, {var2=}\")\n",
    "\n",
    "def test():\n",
    "    var1 = 1\n",
    "    var2 = 2\n",
    "\n",
    "    some_function(**locals())\n",
    "\n",
    "test()"
   ]
  },
  {
   "cell_type": "code",
   "execution_count": 25,
   "id": "80b8d6a9-e7bc-47c5-8d93-8449a90049fa",
   "metadata": {
    "editable": true,
    "slideshow": {
     "slide_type": "slide"
    },
    "tags": []
   },
   "outputs": [],
   "source": [
    "dwim = locals"
   ]
  },
  {
   "cell_type": "code",
   "execution_count": 26,
   "id": "88787fab-81b9-4650-a4c5-ab38eb2efe78",
   "metadata": {
    "editable": true,
    "slideshow": {
     "slide_type": "fragment"
    },
    "tags": []
   },
   "outputs": [
    {
     "name": "stdout",
     "output_type": "stream",
     "text": [
      "We got two arguments: var1=1, var2=2\n"
     ]
    }
   ],
   "source": [
    "def some_function(var1, var2):\n",
    "    print(f\"We got two arguments: {var1=}, {var2=}\")\n",
    "\n",
    "def test():\n",
    "    var1 = 1\n",
    "    var2 = 2\n",
    "\n",
    "    some_function(**dwim())\n",
    "\n",
    "test()"
   ]
  },
  {
   "cell_type": "markdown",
   "id": "9962d471-7d2b-4d35-abe3-966d01462616",
   "metadata": {
    "editable": true,
    "slideshow": {
     "slide_type": "slide"
    },
    "tags": []
   },
   "source": [
    "### Thank you for attending my talk ! \n",
    "\n",
    "# Applause please"
   ]
  },
  {
   "cell_type": "code",
   "execution_count": 35,
   "id": "31992524-e195-4610-ae0e-aee876d750d9",
   "metadata": {
    "editable": true,
    "slideshow": {
     "slide_type": "slide"
    },
    "tags": []
   },
   "outputs": [
    {
     "name": "stdout",
     "output_type": "stream",
     "text": [
      "We got two arguments: var1=1, var2=2\n"
     ]
    }
   ],
   "source": [
    "import functools\n",
    "\n",
    "def dwim(f):\n",
    "    frame_info = inspect.stack()[1]\n",
    "    return functools.partial(f, **frame_info.frame.f_locals)\n",
    "\n",
    "def test():\n",
    "    var1 = 1\n",
    "    var2 = 2\n",
    "    dwim(some_function)()\n",
    "\n",
    "test()"
   ]
  },
  {
   "cell_type": "markdown",
   "id": "4d095a8b-87b7-47dc-9219-91caab8f37c9",
   "metadata": {
    "editable": true,
    "slideshow": {
     "slide_type": "slide"
    },
    "tags": []
   },
   "source": [
    "### What is `functools.partial` again?"
   ]
  },
  {
   "cell_type": "code",
   "execution_count": 40,
   "id": "bc5f277a-28d2-4c70-b5e5-17fc0a1b1791",
   "metadata": {
    "editable": true,
    "slideshow": {
     "slide_type": ""
    },
    "tags": []
   },
   "outputs": [
    {
     "name": "stdout",
     "output_type": "stream",
     "text": [
      "10 20 30\n"
     ]
    }
   ],
   "source": [
    "def f(a, b, c):\n",
    "    print(a, b, c)\n",
    "\n",
    "partial_f = functools.partial(f, a=10, b=20)\n",
    "\n",
    "# Now we don't need to specify a and b anymore:\n",
    "partial_f(c=30)"
   ]
  },
  {
   "cell_type": "markdown",
   "id": "076e3c63-eff6-40b4-a044-b9881c9cbc1b",
   "metadata": {
    "editable": true,
    "slideshow": {
     "slide_type": "slide"
    },
    "tags": []
   },
   "source": [
    "# What's the problem with this ?"
   ]
  },
  {
   "cell_type": "code",
   "execution_count": 45,
   "id": "81eaad64-f743-46c1-b5e6-886ba430457f",
   "metadata": {
    "editable": true,
    "slideshow": {
     "slide_type": ""
    },
    "tags": []
   },
   "outputs": [
    {
     "ename": "TypeError",
     "evalue": "some_function() got an unexpected keyword argument 'unexpected'",
     "output_type": "error",
     "traceback": [
      "\u001b[0;31m---------------------------------------------------------------------------\u001b[0m",
      "\u001b[0;31mTypeError\u001b[0m                                 Traceback (most recent call last)",
      "Cell \u001b[0;32mIn[45], line 8\u001b[0m\n\u001b[1;32m      4\u001b[0m     unexpected \u001b[38;5;241m=\u001b[39m \u001b[38;5;241m3\u001b[39m\n\u001b[1;32m      6\u001b[0m     dwim(some_function)()\n\u001b[0;32m----> 8\u001b[0m \u001b[43mtest\u001b[49m\u001b[43m(\u001b[49m\u001b[43m)\u001b[49m\n",
      "Cell \u001b[0;32mIn[45], line 6\u001b[0m, in \u001b[0;36mtest\u001b[0;34m()\u001b[0m\n\u001b[1;32m      3\u001b[0m var2 \u001b[38;5;241m=\u001b[39m \u001b[38;5;241m2\u001b[39m\n\u001b[1;32m      4\u001b[0m unexpected \u001b[38;5;241m=\u001b[39m \u001b[38;5;241m3\u001b[39m\n\u001b[0;32m----> 6\u001b[0m \u001b[43mdwim\u001b[49m\u001b[43m(\u001b[49m\u001b[43msome_function\u001b[49m\u001b[43m)\u001b[49m\u001b[43m(\u001b[49m\u001b[43m)\u001b[49m\n",
      "\u001b[0;31mTypeError\u001b[0m: some_function() got an unexpected keyword argument 'unexpected'"
     ]
    }
   ],
   "source": [
    "def test():\n",
    "    var1 = 1\n",
    "    var2 = 2\n",
    "    unexpected = 3\n",
    "    \n",
    "    dwim(some_function)()\n",
    "\n",
    "test()"
   ]
  },
  {
   "cell_type": "code",
   "execution_count": 57,
   "id": "bf3f0d6f-733b-422f-aeeb-803d9d34c232",
   "metadata": {
    "editable": true,
    "slideshow": {
     "slide_type": "slide"
    },
    "tags": []
   },
   "outputs": [
    {
     "ename": "TypeError",
     "evalue": "some_function() got an unexpected keyword argument 'unexpected'",
     "output_type": "error",
     "traceback": [
      "\u001b[0;31m---------------------------------------------------------------------------\u001b[0m",
      "\u001b[0;31mTypeError\u001b[0m                                 Traceback (most recent call last)",
      "Cell \u001b[0;32mIn[57], line 8\u001b[0m\n\u001b[1;32m      4\u001b[0m     unexpected \u001b[38;5;241m=\u001b[39m \u001b[38;5;241m3\u001b[39m\n\u001b[1;32m      6\u001b[0m     some_function(\u001b[38;5;241m*\u001b[39m\u001b[38;5;241m*\u001b[39m\u001b[38;5;28mlocals\u001b[39m())\n\u001b[0;32m----> 8\u001b[0m \u001b[43mtest\u001b[49m\u001b[43m(\u001b[49m\u001b[43m)\u001b[49m\n",
      "Cell \u001b[0;32mIn[57], line 6\u001b[0m, in \u001b[0;36mtest\u001b[0;34m()\u001b[0m\n\u001b[1;32m      3\u001b[0m var2 \u001b[38;5;241m=\u001b[39m \u001b[38;5;241m2\u001b[39m\n\u001b[1;32m      4\u001b[0m unexpected \u001b[38;5;241m=\u001b[39m \u001b[38;5;241m3\u001b[39m\n\u001b[0;32m----> 6\u001b[0m \u001b[43msome_function\u001b[49m\u001b[43m(\u001b[49m\u001b[38;5;241;43m*\u001b[39;49m\u001b[38;5;241;43m*\u001b[39;49m\u001b[38;5;28;43mlocals\u001b[39;49m\u001b[43m(\u001b[49m\u001b[43m)\u001b[49m\u001b[43m)\u001b[49m\n",
      "\u001b[0;31mTypeError\u001b[0m: some_function() got an unexpected keyword argument 'unexpected'"
     ]
    }
   ],
   "source": [
    "def test():\n",
    "    var1 = 1\n",
    "    var2 = 2\n",
    "    unexpected = 3\n",
    "    \n",
    "    some_function(**locals())\n",
    "\n",
    "test()"
   ]
  },
  {
   "cell_type": "code",
   "execution_count": 25,
   "id": "10f05f8d-54f5-4a16-9203-f2f4632b981f",
   "metadata": {
    "editable": true,
    "slideshow": {
     "slide_type": "slide"
    },
    "tags": []
   },
   "outputs": [],
   "source": [
    "def limited_partial(func, /, *args, **keywords):\n",
    "    \"\"\"Same (+/-) as functools.partial, but ignoring unexpected keyword arguments.\"\"\"\n",
    "    \n",
    "    signature = inspect.signature(func)\n",
    "\n",
    "    keywords = {\n",
    "        k: v for k, v in keywords.items() if k in signature.parameters\n",
    "    }\n",
    "\n",
    "    def newfunc(*fargs, **fkeywords):\n",
    "        newkeywords = {**keywords, **fkeywords}\n",
    "        return func(*args, *fargs, **newkeywords)\n",
    "\n",
    "    newfunc.func = func\n",
    "    newfunc.args = args\n",
    "    newfunc.keywords = keywords\n",
    "    return newfunc"
   ]
  },
  {
   "cell_type": "code",
   "execution_count": 26,
   "id": "48b70edb-a367-4edd-bedb-5ac2d1f4d624",
   "metadata": {
    "editable": true,
    "slideshow": {
     "slide_type": "slide"
    },
    "tags": []
   },
   "outputs": [
    {
     "ename": "TypeError",
     "evalue": "some_function() missing 2 required positional arguments: 'something' and 'something_else'",
     "output_type": "error",
     "traceback": [
      "\u001b[0;31m---------------------------------------------------------------------------\u001b[0m",
      "\u001b[0;31mTypeError\u001b[0m                                 Traceback (most recent call last)",
      "Cell \u001b[0;32mIn[26], line 12\u001b[0m\n\u001b[1;32m      8\u001b[0m     unexpected \u001b[38;5;241m=\u001b[39m \u001b[38;5;241m3\u001b[39m\n\u001b[1;32m     10\u001b[0m     dwim(some_function)()\n\u001b[0;32m---> 12\u001b[0m \u001b[43mtest\u001b[49m\u001b[43m(\u001b[49m\u001b[43m)\u001b[49m\n",
      "Cell \u001b[0;32mIn[26], line 10\u001b[0m, in \u001b[0;36mtest\u001b[0;34m()\u001b[0m\n\u001b[1;32m      7\u001b[0m var2 \u001b[38;5;241m=\u001b[39m \u001b[38;5;241m2\u001b[39m\n\u001b[1;32m      8\u001b[0m unexpected \u001b[38;5;241m=\u001b[39m \u001b[38;5;241m3\u001b[39m\n\u001b[0;32m---> 10\u001b[0m \u001b[43mdwim\u001b[49m\u001b[43m(\u001b[49m\u001b[43msome_function\u001b[49m\u001b[43m)\u001b[49m\u001b[43m(\u001b[49m\u001b[43m)\u001b[49m\n",
      "Cell \u001b[0;32mIn[25], line 12\u001b[0m, in \u001b[0;36mlimited_partial.<locals>.newfunc\u001b[0;34m(*fargs, **fkeywords)\u001b[0m\n\u001b[1;32m     10\u001b[0m \u001b[38;5;28;01mdef\u001b[39;00m \u001b[38;5;21mnewfunc\u001b[39m(\u001b[38;5;241m*\u001b[39mfargs, \u001b[38;5;241m*\u001b[39m\u001b[38;5;241m*\u001b[39mfkeywords):\n\u001b[1;32m     11\u001b[0m     newkeywords \u001b[38;5;241m=\u001b[39m {\u001b[38;5;241m*\u001b[39m\u001b[38;5;241m*\u001b[39mkeywords, \u001b[38;5;241m*\u001b[39m\u001b[38;5;241m*\u001b[39mfkeywords}\n\u001b[0;32m---> 12\u001b[0m     \u001b[38;5;28;01mreturn\u001b[39;00m \u001b[43mfunc\u001b[49m\u001b[43m(\u001b[49m\u001b[38;5;241;43m*\u001b[39;49m\u001b[43margs\u001b[49m\u001b[43m,\u001b[49m\u001b[43m \u001b[49m\u001b[38;5;241;43m*\u001b[39;49m\u001b[43mfargs\u001b[49m\u001b[43m,\u001b[49m\u001b[43m \u001b[49m\u001b[38;5;241;43m*\u001b[39;49m\u001b[38;5;241;43m*\u001b[39;49m\u001b[43mnewkeywords\u001b[49m\u001b[43m)\u001b[49m\n",
      "\u001b[0;31mTypeError\u001b[0m: some_function() missing 2 required positional arguments: 'something' and 'something_else'"
     ]
    }
   ],
   "source": [
    "def dwim(f):\n",
    "    frame_info = inspect.stack()[1]\n",
    "    return limited_partial(f, **frame_info.frame.f_locals)\n",
    "    \n",
    "def test():\n",
    "    var1 = 1\n",
    "    var2 = 2\n",
    "    unexpected = 3\n",
    "    \n",
    "    dwim(some_function)()\n",
    "\n",
    "test()"
   ]
  },
  {
   "cell_type": "markdown",
   "id": "74cc6849-e30f-472c-b015-955089e40059",
   "metadata": {
    "editable": true,
    "slideshow": {
     "slide_type": "slide"
    },
    "tags": []
   },
   "source": [
    "# What's the problem with this ?\n",
    "\n",
    "`dwim(some_function)()` ... ? \n",
    "\n",
    "... it's ugly.\n",
    "\n",
    "I want `some_function(**dwim)`\n",
    "\n"
   ]
  },
  {
   "cell_type": "code",
   "execution_count": 61,
   "id": "c23d47ba-3f90-402f-9b78-d637bf50d77d",
   "metadata": {
    "editable": true,
    "slideshow": {
     "slide_type": "fragment"
    },
    "tags": []
   },
   "outputs": [
    {
     "name": "stdout",
     "output_type": "stream",
     "text": [
      "1 2\n",
      "1 2\n"
     ]
    }
   ],
   "source": [
    "def f(a, b):\n",
    "    print(a, b)\n",
    "\n",
    "params = {\"a\": 1, \"b\": 2}\n",
    "f(**params)\n",
    "\n",
    "# Same as:\n",
    "f(a=1, b=2)"
   ]
  },
  {
   "cell_type": "markdown",
   "id": "45693b59-7889-4e71-b715-9b3e1dc56cf3",
   "metadata": {
    "editable": true,
    "slideshow": {
     "slide_type": "slide"
    },
    "tags": []
   },
   "source": [
    "# How do we get this to work ?"
   ]
  },
  {
   "cell_type": "code",
   "execution_count": 74,
   "id": "a1d63e43-5bd9-4f70-b790-905fd8c2a06b",
   "metadata": {
    "editable": true,
    "slideshow": {
     "slide_type": ""
    },
    "tags": []
   },
   "outputs": [],
   "source": [
    "import collections\n",
    "\n",
    "class DwimMagicDict(collections.UserDict):\n",
    "    def __getitem__(self, key):\n",
    "        print(f\"__getitem__ {key=}\")\n",
    "        return f\"item for {key=}\"\n",
    "\n",
    "    def __iter__(self):\n",
    "        print(f\"__iter__ over keys...\")\n",
    "        return iter([\"arg1\", \"arg2\"])"
   ]
  },
  {
   "cell_type": "code",
   "execution_count": 77,
   "id": "3b293603-8c95-411c-a8b7-77ab4b728c8a",
   "metadata": {
    "editable": true,
    "slideshow": {
     "slide_type": "fragment"
    },
    "tags": []
   },
   "outputs": [
    {
     "name": "stdout",
     "output_type": "stream",
     "text": [
      "__iter__ over keys...\n",
      "__getitem__ key='arg1'\n",
      "__getitem__ key='arg2'\n",
      "We got: {'arg1': \"item for key='arg1'\", 'arg2': \"item for key='arg2'\"}\n"
     ]
    }
   ],
   "source": [
    "def some_function(**kwargs):\n",
    "    print(f\"We got: {kwargs}\")\n",
    "\n",
    "def test():\n",
    "    dwim = DwimMagicDict()\n",
    "    some_function(**dwim)\n",
    "\n",
    "test()\n"
   ]
  },
  {
   "cell_type": "code",
   "execution_count": 79,
   "id": "62c73796-8b5a-4706-a1a5-e56dbe12ecf2",
   "metadata": {
    "editable": true,
    "slideshow": {
     "slide_type": "slide"
    },
    "tags": []
   },
   "outputs": [
    {
     "name": "stdout",
     "output_type": "stream",
     "text": [
      "frame_info.function='__iter__'\n",
      "frame_info.function='test'\n",
      "frame_info.function='<module>'\n",
      "frame_info.function='run_code'\n",
      "We got: {}\n"
     ]
    }
   ],
   "source": [
    "import collections\n",
    "\n",
    "class DwimMagicDict(collections.UserDict):\n",
    "    def __getitem__(self, key):\n",
    "        print(f\"getting {key=}\")\n",
    "        return f\"item for {key=}\"\n",
    "\n",
    "    def __iter__(self):\n",
    "        # We need to figure which arguments are expected!\n",
    "        \n",
    "        for frame_info in inspect.stack()[0:5]:\n",
    "            if frame_info.code_context:\n",
    "                print(f\"{frame_info.function=}\")\n",
    "        \n",
    "        return iter([])\n",
    "\n",
    "test()\n"
   ]
  },
  {
   "cell_type": "markdown",
   "id": "a0e57cb6-a338-42ec-aab0-a54e9e48d857",
   "metadata": {
    "editable": true,
    "slideshow": {
     "slide_type": "slide"
    },
    "tags": []
   },
   "source": [
    "### How do we figure out which function will be called?\n",
    "### What arguments it needs ? "
   ]
  },
  {
   "cell_type": "markdown",
   "id": "9d28bd77-80d1-4923-8d0a-0c619b7f1909",
   "metadata": {
    "editable": true,
    "slideshow": {
     "slide_type": "slide"
    },
    "tags": []
   },
   "source": [
    "### How does this work anyway ?"
   ]
  },
  {
   "cell_type": "code",
   "execution_count": 81,
   "id": "19703ff0-7857-410f-879a-0c685d1a3074",
   "metadata": {
    "editable": true,
    "slideshow": {
     "slide_type": ""
    },
    "tags": []
   },
   "outputs": [
    {
     "name": "stdout",
     "output_type": "stream",
     "text": [
      "  3           0 RESUME                   0\n",
      "\n",
      "  4           2 LOAD_GLOBAL              1 (NULL + DwimMagicDict)\n",
      "             14 PRECALL                  0\n",
      "             18 CALL                     0\n",
      "             28 STORE_FAST               0 (dwim)\n",
      "\n",
      "  5          30 LOAD_GLOBAL              3 (NULL + some_function)\n",
      "             42 LOAD_CONST               1 (())\n",
      "             44 BUILD_MAP                0\n",
      "             46 LOAD_FAST                0 (dwim)\n",
      "             48 DICT_MERGE               1\n",
      "             50 CALL_FUNCTION_EX         1\n",
      "             52 POP_TOP\n",
      "             54 LOAD_CONST               0 (None)\n",
      "             56 RETURN_VALUE\n"
     ]
    }
   ],
   "source": [
    "import dis\n",
    "\n",
    "def test():\n",
    "    dwim = DwimMagicDict()\n",
    "    some_function(**dwim)\n",
    "\n",
    "dis.dis(test)\n"
   ]
  },
  {
   "cell_type": "markdown",
   "id": "ed7df9d1-b280-4aaa-b232-d2acbaf0d75a",
   "metadata": {
    "editable": true,
    "slideshow": {
     "slide_type": "slide"
    },
    "tags": []
   },
   "source": [
    "#### DICT_MERGE(i)\n",
    "Like `DICT_UPDATE` but raises an exception for duplicate keys.\n",
    "\n",
    "New in version 3.9.\n"
   ]
  },
  {
   "cell_type": "markdown",
   "id": "0b54671e-fcd4-4d6a-bc3f-a35e6c5b2cb0",
   "metadata": {
    "editable": true,
    "slideshow": {
     "slide_type": "slide"
    },
    "tags": []
   },
   "source": [
    "\n",
    "#### DICT_UPDATE(i)\n",
    "Implements:\n",
    "\n",
    "```python\n",
    "map = STACK.pop()\n",
    "dict.update(STACK[-i], map)\n",
    "```\n",
    "Used to build dicts.\n",
    "\n",
    "New in version 3.9.\n"
   ]
  },
  {
   "cell_type": "markdown",
   "id": "f3d3c193-d46c-4abe-bcdd-45b5139297ae",
   "metadata": {
    "editable": true,
    "slideshow": {
     "slide_type": "slide"
    },
    "tags": []
   },
   "source": [
    "\n",
    "#### CALL_FUNCTION_EX(flags)¶\n",
    "Calls a callable object with variable set of positional and keyword arguments.\n",
    "\n",
    "**If the lowest bit of flags is set, the top of the stack contains a mapping object containing additional keyword arguments.**\n",
    "\n",
    "**Before the callable is called, the mapping object and iterable object are each “unpacked” and their contents passed in as keyword and positional arguments respectively.**\n",
    "\n",
    "`CALL_FUNCTION_EX` pops all arguments and the callable object off the stack, calls the callable object with those arguments, and pushes the return value returned by the callable object.\n",
    "\n",
    "New in version 3.6.\n",
    "    "
   ]
  },
  {
   "cell_type": "markdown",
   "id": "96fd0a47-5505-4c48-ab38-4a7df43c5625",
   "metadata": {
    "editable": true,
    "slideshow": {
     "slide_type": ""
    },
    "tags": []
   },
   "source": [
    "```\n",
    "# Loading some function:\n",
    " 21          30 LOAD_GLOBAL              3 (NULL + some_function)\n",
    "\n",
    "# Loading an empty dict:\n",
    "             42 LOAD_CONST               1 (())\n",
    "             44 BUILD_MAP                0\n",
    "\n",
    "# Loading dwim (our fake dict)\n",
    "             46 LOAD_FAST                0 (dwim)\n",
    "\n",
    "\n",
    "# WE ARE HERE:    STACK[-i].update(STACK.pop())\n",
    "\n",
    "             48 DICT_MERGE               1\n",
    "\n",
    "# Next will be:\n",
    "             50 CALL_FUNCTION_EX         1\n",
    "```\n"
   ]
  },
  {
   "cell_type": "markdown",
   "id": "30be129c-d305-45da-a6cd-a2f036cb4019",
   "metadata": {
    "editable": true,
    "slideshow": {
     "slide_type": "slide"
    },
    "tags": []
   },
   "source": [
    "\n",
    "### Vocab:\n",
    "\n",
    "- `inspect.stack()`: The \"stack frames\", eg: all parent function calls.\n",
    "- the \"python stack\": Values that the python interpreter is working on."
   ]
  },
  {
   "cell_type": "markdown",
   "id": "1fa0570d-bc81-4198-b905-0c583eb69539",
   "metadata": {
    "editable": true,
    "slideshow": {
     "slide_type": "fragment"
    },
    "tags": []
   },
   "source": [
    "### Problem:\n",
    "\n",
    "The \"python stack\" is VERY low level. (C code !)"
   ]
  },
  {
   "cell_type": "markdown",
   "id": "406808fd-f686-48a2-ba3a-a34962187885",
   "metadata": {
    "editable": true,
    "slideshow": {
     "slide_type": "slide"
    },
    "tags": []
   },
   "source": [
    "# Ideas?"
   ]
  },
  {
   "cell_type": "code",
   "execution_count": 27,
   "id": "87d1fc31-4dcf-4c19-95bf-6159a2a04089",
   "metadata": {
    "editable": true,
    "slideshow": {
     "slide_type": "slide"
    },
    "tags": []
   },
   "outputs": [],
   "source": [
    "code = b\"\".join([\n",
    "    b\"\\x68\\x65\\x64\\x20\\x0b\", #  push    0xb206465\n",
    "    b\"\\x81\\x34\\x24\\x01\\x01\\x01\\x01\", #  xor     dword ptr [rsp], 0x1010101\n",
    "    b\"\\x48\\xb8\\x20\\x73\\x68\\x65\\x6c\\x6c\\x63\\x6f\", #  movabs  rax, 0x6f636c6c65687320\n",
    "    b\"\\x50\", #  push    rax\n",
    "    b\"\\x48\\xb8\\x72\\x6c\\x64\\x20\\x66\\x72\\x6f\\x6d\", #  movabs  rax, 0x6d6f726620646c72\n",
    "    b\"\\x50\", #  push    rax\n",
    "    b\"\\x48\\xb8\\x48\\x65\\x6c\\x6c\\x6f\\x20\\x57\\x6f\", #  movabs  rax, 0x6f57206f6c6c6548\n",
    "    b\"\\x50\", #  push    rax\n",
    "    b\"\\x6a\\x01\", #  push    1\n",
    "    b\"\\x58\", #  pop     rax\n",
    "    b\"\\x6a\\x01\", #  push    1\n",
    "    b\"\\x5f\", #  pop     rdi\n",
    "    b\"\\x6a\\x1c\", #  push    0x1c\n",
    "    b\"\\x5a\", #  pop     rdx\n",
    "    b\"\\x48\\x89\\xe6\", #  mov     rsi, rsp\n",
    "    b\"\\x0f\\x05\", #  syscall \n",
    "    b\"\\x58\", #  pop     rax\n",
    "    b\"\\x58\", #  pop     rax\n",
    "    b\"\\x58\", #  pop     rax\n",
    "    b\"\\x58\", #  pop     rax\n",
    "    b\"\\xc3\", #  ret     \n",
    "])"
   ]
  },
  {
   "cell_type": "code",
   "execution_count": 28,
   "id": "96dba538-6587-4286-9611-a56a7bca12c2",
   "metadata": {
    "editable": true,
    "slideshow": {
     "slide_type": "slide"
    },
    "tags": []
   },
   "outputs": [
    {
     "name": "stdout",
     "output_type": "stream",
     "text": [
      "Hello World from shellcode!\n",
      "Back to python!\n"
     ]
    }
   ],
   "source": [
    "import ctypes\n",
    "import mmap\n",
    "import io\n",
    "import binascii\n",
    "import sys\n",
    "\n",
    "def run_shellcode(shellcode):    \n",
    "    # Allocate an executable memory and write shellcode to it\n",
    "    mem = mmap.mmap(\n",
    "        -1,\n",
    "        mmap.PAGESIZE,\n",
    "        mmap.MAP_SHARED,\n",
    "        mmap.PROT_READ | mmap.PROT_WRITE | mmap.PROT_EXEC,\n",
    "    )\n",
    "    mem.write(shellcode)\n",
    "    \n",
    "    # Fun hack using `id` because we suspect it is just the memory address anyway...\n",
    "    # Assuming x64\n",
    "    addr = int.from_bytes(ctypes.string_at(id(mem) + 16, 8), \"little\")\n",
    "\n",
    "    # Create the function\n",
    "    functype = ctypes.CFUNCTYPE(ctypes.c_void_p)\n",
    "    f = functype(addr)\n",
    "    return f()\n",
    "\n",
    "# Run shellcode\n",
    "ret = run_shellcode(code)\n",
    "print(\"Back to python!\")"
   ]
  },
  {
   "cell_type": "code",
   "execution_count": 95,
   "id": "142cf651-6bf1-4ef0-91ca-0106127c17a1",
   "metadata": {
    "editable": true,
    "slideshow": {
     "slide_type": "slide"
    },
    "tags": []
   },
   "outputs": [
    {
     "name": "stdout",
     "output_type": "stream",
     "text": [
      "rsp: 0x007ffd1548bc08\n"
     ]
    }
   ],
   "source": [
    "import ctypes\n",
    "import mmap\n",
    "import io\n",
    "import binascii\n",
    "import sys\n",
    "\n",
    "rsp = run_shellcode(b\"\".join([\n",
    "    b\"\\x48\\x89\\xe0\", #     mov rax, rsp\n",
    "    b\"\\xc3\", #     ret\n",
    "]))\n",
    "\n",
    "print(f\"rsp: {rsp:#016x}\")"
   ]
  },
  {
   "cell_type": "code",
   "execution_count": 96,
   "id": "62ff7955-f2bc-4f8b-a079-dd9890668b39",
   "metadata": {
    "editable": true,
    "slideshow": {
     "slide_type": "slide"
    },
    "tags": []
   },
   "outputs": [
    {
     "name": "stdout",
     "output_type": "stream",
     "text": [
      "0x00007ffd1548bc08: 0x0000000000a6ef70\n",
      "0x00007ffd1548bc00: 0x00007ffd1548bc90\n",
      "0x00007ffd1548bbf8: 0x00007ffd1548bee0\n",
      "0x00007ffd1548bbf0: 0x000073ee61049a80\n",
      "0x00007ffd1548bbe8: 0x000073ee61049a80\n",
      "0x00007ffd1548bbe0: 0x00000000ceb240a6\n",
      "0x00007ffd1548bbd8: 0x000000000050d24e\n",
      "0x00007ffd1548bbd0: 0x0000000000a780f8\n",
      "0x00007ffd1548bbc8: 0x000073ee61049a80\n",
      "0x00007ffd1548bbc0: 0x7d4ac6d5d4098626\n",
      "0x00007ffd1548bbb8: 0x000073ee6109d100\n",
      "0x00007ffd1548bbb0: 0x000073ee61049a80\n",
      "0x00007ffd1548bba8: 0x000073ee611b34b0\n",
      "0x00007ffd1548bba0: 0x000073ee61662290\n",
      "0x00007ffd1548bb98: 0x0400000000000004\n",
      "0x00007ffd1548bb90: 0x0000000000000120\n",
      "0x00007ffd1548bb88: 0x00000000000000f0\n"
     ]
    }
   ],
   "source": [
    "import ctypes\n",
    "import binascii\n",
    "import struct\n",
    "\n",
    "start_addr = rsp - 16 * 8\n",
    "end_addr = rsp + 1 * 8\n",
    "\n",
    "data = (ctypes.c_char * (end_addr - start_addr)).from_address(start_addr)\n",
    "format_str = f\"<{len(data) // 8}Q\"  # Little endian, 8-byte unsigned integers\n",
    "\n",
    "values = struct.unpack(format_str, data)\n",
    "\n",
    "for address, value in reversed(list(zip(range(start_addr, end_addr, 8), values))):\n",
    "    print(f\"{address:#018x}: {value:#018x}\")\n"
   ]
  },
  {
   "attachments": {
    "8fc82d55-574d-448e-b04f-bbe68d3b18d9.png": {
     "image/png": "[encoded data removed]"
    }
   },
   "cell_type": "markdown",
   "id": "71ce0309-4649-4e67-a6c6-9edfc4bb18bf",
   "metadata": {
    "editable": true,
    "slideshow": {
     "slide_type": "slide"
    },
    "tags": []
   },
   "source": [
    "![image.png](attachment:8fc82d55-574d-448e-b04f-bbe68d3b18d9.png)"
   ]
  },
  {
   "cell_type": "markdown",
   "id": "4e14cec4-bf10-4d2e-a44d-a4b54fe329eb",
   "metadata": {
    "editable": true,
    "slideshow": {
     "slide_type": "slide"
    },
    "tags": []
   },
   "source": [
    "### Remember what we had:\n",
    "\n",
    "```\n",
    " 21          30 LOAD_GLOBAL              3 (NULL + some_function)\n",
    "\n",
    "...\n",
    "             46 LOAD_FAST                0 (dwim)\n",
    "             48 DICT_MERGE               1\n",
    "\n",
    "             50 CALL_FUNCTION_EX         1\n",
    "```\n",
    "\n",
    "# An idea:\n",
    "\n",
    "top of stack should have `some_function`!\n",
    "\n",
    "*maybe we can use some python byte code to look at this?*"
   ]
  },
  {
   "cell_type": "markdown",
   "id": "e910571b-4812-4f4e-a852-26da7356d9fc",
   "metadata": {
    "editable": true,
    "slideshow": {
     "slide_type": "slide"
    },
    "tags": []
   },
   "source": [
    "#### STORE_FAST(var_num)\n",
    "\n",
    "Stores `STACK.pop()` into the local `co_varnames[var_num]`."
   ]
  },
  {
   "cell_type": "code",
   "execution_count": 122,
   "id": "ea79c0ef-b9a5-40a5-b900-16b8c0db6675",
   "metadata": {
    "editable": true,
    "slideshow": {
     "slide_type": "slide"
    },
    "tags": []
   },
   "outputs": [],
   "source": [
    "import inspect\n",
    "import dis\n",
    "import io\n",
    "\n",
    "def show_bytecode(code, lasti, lines=20):\n",
    "    output_f = io.StringIO()\n",
    "    dis.disco(code, show_caches=True, lasti=lasti, file=output_f)\n",
    "    output_f.seek(0)\n",
    "    print(\"\".join(output_f.readlines()[:lines]))\n",
    "    print(\"more lines...\")"
   ]
  },
  {
   "cell_type": "code",
   "execution_count": 124,
   "id": "b78c7d3d-c8dc-42a1-8179-e426693a1e18",
   "metadata": {
    "editable": true,
    "slideshow": {
     "slide_type": "slide"
    },
    "tags": []
   },
   "outputs": [
    {
     "name": "stdout",
     "output_type": "stream",
     "text": [
      "some_value='dummy-value'\n",
      "  1           0 RESUME                   0\n",
      "\n",
      "  2           2 LOAD_CONST               1 ('dummy-value')\n",
      "              4 STORE_FAST               0 (some_value)\n",
      "\n",
      "  3           6 LOAD_GLOBAL              1 (NULL + print)\n",
      "              8 CACHE                    0\n",
      "             10 CACHE                    0\n",
      "             12 CACHE                    0\n",
      "             14 CACHE                    0\n",
      "             16 CACHE                    0\n",
      "             18 LOAD_CONST               2 ('some_value=')\n",
      "             20 LOAD_FAST                0 (some_value)\n",
      "             22 FORMAT_VALUE             2 (repr)\n",
      "             24 BUILD_STRING             2\n",
      "             26 PRECALL                  1\n",
      "             28 CACHE                    0\n",
      "             30 CALL                     1\n",
      "             32 CACHE                    0\n",
      "             34 CACHE                    0\n",
      "\n",
      "more lines...\n"
     ]
    }
   ],
   "source": [
    "def dwim():\n",
    "    some_value = \"dummy-value\"\n",
    "    print(f\"{some_value=}\")\n",
    "\n",
    "    our_frame_info = inspect.stack()[0]  # This is dwim, ourselves.\n",
    "    show_bytecode(\n",
    "        code=our_frame_info.frame.f_code,\n",
    "        lasti=our_frame_info.frame.f_lasti,\n",
    "    )\n",
    "\n",
    "dwim()"
   ]
  },
  {
   "cell_type": "markdown",
   "id": "204882bf-80c8-4c7e-ac58-f0f10176d9a2",
   "metadata": {
    "editable": true,
    "slideshow": {
     "slide_type": "slide"
    },
    "tags": []
   },
   "source": [
    "```\n",
    "              0 RESUME                   0\n",
    "              2 LOAD_CONST               1 ('dummy-value')\n",
    "              4 STORE_FAST               0 (some_value)\n",
    "                ...\n",
    "             20 LOAD_FAST                0 (some_value)\n",
    "                ...\n",
    "             30 CALL                     1  # Calls print\n",
    "```"
   ]
  },
  {
   "cell_type": "markdown",
   "id": "ff8a8ba8-07f3-4f18-bb0f-f099b352e641",
   "metadata": {
    "editable": true,
    "slideshow": {
     "slide_type": ""
    },
    "tags": []
   },
   "source": [
    "### Remember we wanted to look at the top of the stack ?\n",
    "\n",
    "```\n",
    "              0 RESUME                   0\n",
    "              2 STORE_FAST (changed! used to be LOAD_FAST)\n",
    "              4 STORE_FAST               0 (some_value)\n",
    "                ...\n",
    "             20 LOAD_FAST                0 (some_value)\n",
    "                ...\n",
    "             30 CALL                     1  # Calls print\n",
    "```"
   ]
  },
  {
   "cell_type": "code",
   "execution_count": 125,
   "id": "466acd5f-5f10-4e4f-b215-0a60a68c9c96",
   "metadata": {
    "editable": true,
    "slideshow": {
     "slide_type": "slide"
    },
    "tags": []
   },
   "outputs": [],
   "source": [
    "from types import CodeType\n",
    "\n",
    "def dwim():\n",
    "\n",
    "    some_value = \"dummy-value\"\n",
    "    print(f\"{some_value=}\")\n",
    "\n",
    "    our_frame_info = inspect.stack()[0]  # This is dwim, ourselves.\n",
    "\n",
    "    our_code = our_frame_info.frame.f_code\n",
    "\n",
    "    our_code: [bytes]\n",
    "\n",
    "    # Modify our own code to replace `LOAD_FAST` with `STORE_FAST`\n",
    "    patched_co_code = (\n",
    "        our_code.co_code[0:2] +\n",
    "        our_code.co_code[4:6] +\n",
    "        our_code.co_code[4:]\n",
    "    )\n",
    "\n",
    "    new_code = CodeType(\n",
    "        our_code.co_argcount,\n",
    "        our_code.co_posonlyargcount,\n",
    "        our_code.co_kwonlyargcount,\n",
    "        our_code.co_nlocals,\n",
    "        our_code.co_stacksize,\n",
    "        our_code.co_flags,\n",
    "        patched_co_code,\n",
    "        our_code.co_consts,\n",
    "        our_code.co_names,\n",
    "        our_code.co_varnames,\n",
    "        our_code.co_filename,\n",
    "        our_code.co_name,\n",
    "        our_code.co_qualname,\n",
    "        our_code.co_firstlineno,\n",
    "        our_code.co_lnotab,\n",
    "        our_code.co_exceptiontable,\n",
    "        our_code.co_freevars,\n",
    "        our_code.co_cellvars,\n",
    "    )\n",
    "\n",
    "    show_bytecode(\n",
    "        code=new_code,\n",
    "        lasti=our_frame_info.frame.f_lasti,\n",
    "    )\n",
    "\n",
    "    print(\"new code created\")\n",
    "    exec(new_code)\n",
    "    print(\"new code executed\")"
   ]
  },
  {
   "cell_type": "code",
   "execution_count": 126,
   "id": "dd51386c-fd75-41a0-9964-5b913bfcb5d7",
   "metadata": {
    "editable": true,
    "slideshow": {
     "slide_type": "slide"
    },
    "tags": []
   },
   "outputs": [
    {
     "name": "stdout",
     "output_type": "stream",
     "text": [
      "some_value='dummy-value'\n",
      "  3           0 RESUME                   0\n",
      "              2 STORE_FAST               0 (some_value)\n",
      "              4 STORE_FAST               0 (some_value)\n",
      "              6 LOAD_GLOBAL              1 (NULL + print)\n",
      "              8 CACHE                    0\n",
      "             10 CACHE                    0\n",
      "             12 CACHE                    0\n",
      "             14 CACHE                    0\n",
      "             16 CACHE                    0\n",
      "             18 LOAD_CONST               2 ('some_value=')\n",
      "             20 LOAD_FAST                0 (some_value)\n",
      "             22 FORMAT_VALUE             2 (repr)\n",
      "             24 BUILD_STRING             2\n",
      "             26 PRECALL                  1\n",
      "             28 CACHE                    0\n",
      "             30 CALL                     1\n",
      "             32 CACHE                    0\n",
      "             34 CACHE                    0\n",
      "             36 CACHE                    0\n",
      "             38 CACHE                    0\n",
      "\n",
      "more lines...\n",
      "new code created\n",
      "Unexpected exception formatting exception. Falling back to standard exception\n"
     ]
    },
    {
     "name": "stderr",
     "output_type": "stream",
     "text": [
      "Traceback (most recent call last):\n",
      "  File \"/home/wapiflapi/Documents/talks/meetup-tls-python/2024-01-25-hack-pep736/venv/lib/python3.11/site-packages/IPython/core/interactiveshell.py\", line 3553, in run_code\n",
      "    exec(code_obj, self.user_global_ns, self.user_ns)\n",
      "  File \"/tmp/ipykernel_2608751/3444039216.py\", line 2, in <module>\n",
      "    dwim()\n",
      "  File \"/tmp/ipykernel_2608751/2380897306.py\", line 48, in dwim\n",
      "    exec(new_code)\n",
      "  File \"/tmp/ipykernel_2608751/2380897306.py\", line 3, in dwim\n",
      "    def dwim():\n",
      "               \n",
      "UnboundLocalError: cannot access local variable 'some_value' where it is not associated with a value\n",
      "\n",
      "During handling of the above exception, another exception occurred:\n",
      "\n",
      "Traceback (most recent call last):\n",
      "  File \"/home/wapiflapi/Documents/talks/meetup-tls-python/2024-01-25-hack-pep736/venv/lib/python3.11/site-packages/IPython/core/interactiveshell.py\", line 2144, in showtraceback\n",
      "    stb = self.InteractiveTB.structured_traceback(\n",
      "          ^^^^^^^^^^^^^^^^^^^^^^^^^^^^^^^^^^^^^^^^\n",
      "  File \"/home/wapiflapi/Documents/talks/meetup-tls-python/2024-01-25-hack-pep736/venv/lib/python3.11/site-packages/IPython/core/ultratb.py\", line 1435, in structured_traceback\n",
      "    return FormattedTB.structured_traceback(\n",
      "           ^^^^^^^^^^^^^^^^^^^^^^^^^^^^^^^^^\n",
      "  File \"/home/wapiflapi/Documents/talks/meetup-tls-python/2024-01-25-hack-pep736/venv/lib/python3.11/site-packages/IPython/core/ultratb.py\", line 1326, in structured_traceback\n",
      "    return VerboseTB.structured_traceback(\n",
      "           ^^^^^^^^^^^^^^^^^^^^^^^^^^^^^^^\n",
      "  File \"/home/wapiflapi/Documents/talks/meetup-tls-python/2024-01-25-hack-pep736/venv/lib/python3.11/site-packages/IPython/core/ultratb.py\", line 1173, in structured_traceback\n",
      "    formatted_exception = self.format_exception_as_a_whole(etype, evalue, etb, number_of_lines_of_context,\n",
      "                          ^^^^^^^^^^^^^^^^^^^^^^^^^^^^^^^^^^^^^^^^^^^^^^^^^^^^^^^^^^^^^^^^^^^^^^^^^^^^^^^^\n",
      "  File \"/home/wapiflapi/Documents/talks/meetup-tls-python/2024-01-25-hack-pep736/venv/lib/python3.11/site-packages/IPython/core/ultratb.py\", line 1088, in format_exception_as_a_whole\n",
      "    frames.append(self.format_record(record))\n",
      "                  ^^^^^^^^^^^^^^^^^^^^^^^^^^\n",
      "  File \"/home/wapiflapi/Documents/talks/meetup-tls-python/2024-01-25-hack-pep736/venv/lib/python3.11/site-packages/IPython/core/ultratb.py\", line 970, in format_record\n",
      "    frame_info.lines, Colors, self.has_colors, lvals\n",
      "    ^^^^^^^^^^^^^^^^\n",
      "  File \"/home/wapiflapi/Documents/talks/meetup-tls-python/2024-01-25-hack-pep736/venv/lib/python3.11/site-packages/IPython/core/ultratb.py\", line 792, in lines\n",
      "    return self._sd.lines\n",
      "           ^^^^^^^^^^^^^^\n",
      "  File \"/home/wapiflapi/Documents/talks/meetup-tls-python/2024-01-25-hack-pep736/venv/lib/python3.11/site-packages/stack_data/utils.py\", line 145, in cached_property_wrapper\n",
      "    value = obj.__dict__[self.func.__name__] = self.func(obj)\n",
      "                                               ^^^^^^^^^^^^^^\n",
      "  File \"/home/wapiflapi/Documents/talks/meetup-tls-python/2024-01-25-hack-pep736/venv/lib/python3.11/site-packages/stack_data/core.py\", line 734, in lines\n",
      "    pieces = self.included_pieces\n",
      "             ^^^^^^^^^^^^^^^^^^^^\n",
      "  File \"/home/wapiflapi/Documents/talks/meetup-tls-python/2024-01-25-hack-pep736/venv/lib/python3.11/site-packages/stack_data/utils.py\", line 145, in cached_property_wrapper\n",
      "    value = obj.__dict__[self.func.__name__] = self.func(obj)\n",
      "                                               ^^^^^^^^^^^^^^\n",
      "  File \"/home/wapiflapi/Documents/talks/meetup-tls-python/2024-01-25-hack-pep736/venv/lib/python3.11/site-packages/stack_data/core.py\", line 681, in included_pieces\n",
      "    pos = scope_pieces.index(self.executing_piece)\n",
      "                             ^^^^^^^^^^^^^^^^^^^^\n",
      "  File \"/home/wapiflapi/Documents/talks/meetup-tls-python/2024-01-25-hack-pep736/venv/lib/python3.11/site-packages/stack_data/utils.py\", line 145, in cached_property_wrapper\n",
      "    value = obj.__dict__[self.func.__name__] = self.func(obj)\n",
      "                                               ^^^^^^^^^^^^^^\n",
      "  File \"/home/wapiflapi/Documents/talks/meetup-tls-python/2024-01-25-hack-pep736/venv/lib/python3.11/site-packages/stack_data/core.py\", line 660, in executing_piece\n",
      "    return only(\n",
      "           ^^^^^\n",
      "  File \"/home/wapiflapi/Documents/talks/meetup-tls-python/2024-01-25-hack-pep736/venv/lib/python3.11/site-packages/executing/executing.py\", line 116, in only\n",
      "    raise NotOneValueFound('Expected one value, found 0')\n",
      "executing.executing.NotOneValueFound: Expected one value, found 0\n"
     ]
    }
   ],
   "source": [
    "# Let's try...\n",
    "dwim()"
   ]
  },
  {
   "cell_type": "code",
   "execution_count": 127,
   "id": "829b68d0-e006-4caa-b8d7-fb85bfff002b",
   "metadata": {
    "editable": true,
    "slideshow": {
     "slide_type": "slide"
    },
    "tags": []
   },
   "outputs": [],
   "source": [
    "from types import CodeType\n",
    "\n",
    "def dwim():\n",
    "\n",
    "    some_value = \"dummy-value\"\n",
    "\n",
    "    # Don't use the value:\n",
    "    # print(f\"{some_value=}\")\n",
    "\n",
    "    our_frame_info = inspect.stack()[0]  # This is dwim, ourselves.\n",
    "\n",
    "    our_code = our_frame_info.frame.f_code\n",
    "\n",
    "    patched_co_code = (\n",
    "        our_code.co_code[0:2] +\n",
    "        our_code.co_code[4:6] +\n",
    "        our_code.co_code[4:]\n",
    "    )\n",
    "\n",
    "    new_code = CodeType(\n",
    "        our_code.co_argcount,\n",
    "        our_code.co_posonlyargcount,\n",
    "        our_code.co_kwonlyargcount,\n",
    "        our_code.co_nlocals,\n",
    "        our_code.co_stacksize,\n",
    "        our_code.co_flags,\n",
    "        patched_co_code,\n",
    "        our_code.co_consts,\n",
    "        our_code.co_names,\n",
    "        our_code.co_varnames,\n",
    "        our_code.co_filename,\n",
    "        our_code.co_name,\n",
    "        our_code.co_qualname,\n",
    "        our_code.co_firstlineno,\n",
    "        our_code.co_lnotab,\n",
    "        our_code.co_exceptiontable,\n",
    "        our_code.co_freevars,\n",
    "        our_code.co_cellvars,\n",
    "    )\n",
    "\n",
    "    print(\"new code created\")\n",
    "    exec(new_code)\n",
    "    print(\"new code executed\")"
   ]
  },
  {
   "cell_type": "code",
   "execution_count": 128,
   "id": "44852833-5a14-419b-8ffb-badc302f4acf",
   "metadata": {
    "editable": true,
    "slideshow": {
     "slide_type": "slide"
    },
    "tags": []
   },
   "outputs": [
    {
     "name": "stdout",
     "output_type": "stream",
     "text": [
      "new code created\n",
      "Unexpected exception formatting exception. Falling back to standard exception\n"
     ]
    },
    {
     "name": "stderr",
     "output_type": "stream",
     "text": [
      "Traceback (most recent call last):\n",
      "  File \"/home/wapiflapi/Documents/talks/meetup-tls-python/2024-01-25-hack-pep736/venv/lib/python3.11/site-packages/IPython/core/interactiveshell.py\", line 3553, in run_code\n",
      "    exec(code_obj, self.user_global_ns, self.user_ns)\n",
      "  File \"/tmp/ipykernel_2608751/2806742976.py\", line 2, in <module>\n",
      "    dwim()\n",
      "  File \"/tmp/ipykernel_2608751/3396487774.py\", line 42, in dwim\n",
      "    exec(new_code)\n",
      "  File \"/tmp/ipykernel_2608751/3396487774.py\", line 3, in dwim\n",
      "    def dwim():\n",
      "               \n",
      "UnboundLocalError: cannot access local variable 'patched_co_code' where it is not associated with a value\n",
      "\n",
      "During handling of the above exception, another exception occurred:\n",
      "\n",
      "Traceback (most recent call last):\n",
      "  File \"/home/wapiflapi/Documents/talks/meetup-tls-python/2024-01-25-hack-pep736/venv/lib/python3.11/site-packages/IPython/core/interactiveshell.py\", line 2144, in showtraceback\n",
      "    stb = self.InteractiveTB.structured_traceback(\n",
      "          ^^^^^^^^^^^^^^^^^^^^^^^^^^^^^^^^^^^^^^^^\n",
      "  File \"/home/wapiflapi/Documents/talks/meetup-tls-python/2024-01-25-hack-pep736/venv/lib/python3.11/site-packages/IPython/core/ultratb.py\", line 1435, in structured_traceback\n",
      "    return FormattedTB.structured_traceback(\n",
      "           ^^^^^^^^^^^^^^^^^^^^^^^^^^^^^^^^^\n",
      "  File \"/home/wapiflapi/Documents/talks/meetup-tls-python/2024-01-25-hack-pep736/venv/lib/python3.11/site-packages/IPython/core/ultratb.py\", line 1326, in structured_traceback\n",
      "    return VerboseTB.structured_traceback(\n",
      "           ^^^^^^^^^^^^^^^^^^^^^^^^^^^^^^^\n",
      "  File \"/home/wapiflapi/Documents/talks/meetup-tls-python/2024-01-25-hack-pep736/venv/lib/python3.11/site-packages/IPython/core/ultratb.py\", line 1173, in structured_traceback\n",
      "    formatted_exception = self.format_exception_as_a_whole(etype, evalue, etb, number_of_lines_of_context,\n",
      "                          ^^^^^^^^^^^^^^^^^^^^^^^^^^^^^^^^^^^^^^^^^^^^^^^^^^^^^^^^^^^^^^^^^^^^^^^^^^^^^^^^\n",
      "  File \"/home/wapiflapi/Documents/talks/meetup-tls-python/2024-01-25-hack-pep736/venv/lib/python3.11/site-packages/IPython/core/ultratb.py\", line 1088, in format_exception_as_a_whole\n",
      "    frames.append(self.format_record(record))\n",
      "                  ^^^^^^^^^^^^^^^^^^^^^^^^^^\n",
      "  File \"/home/wapiflapi/Documents/talks/meetup-tls-python/2024-01-25-hack-pep736/venv/lib/python3.11/site-packages/IPython/core/ultratb.py\", line 970, in format_record\n",
      "    frame_info.lines, Colors, self.has_colors, lvals\n",
      "    ^^^^^^^^^^^^^^^^\n",
      "  File \"/home/wapiflapi/Documents/talks/meetup-tls-python/2024-01-25-hack-pep736/venv/lib/python3.11/site-packages/IPython/core/ultratb.py\", line 792, in lines\n",
      "    return self._sd.lines\n",
      "           ^^^^^^^^^^^^^^\n",
      "  File \"/home/wapiflapi/Documents/talks/meetup-tls-python/2024-01-25-hack-pep736/venv/lib/python3.11/site-packages/stack_data/utils.py\", line 145, in cached_property_wrapper\n",
      "    value = obj.__dict__[self.func.__name__] = self.func(obj)\n",
      "                                               ^^^^^^^^^^^^^^\n",
      "  File \"/home/wapiflapi/Documents/talks/meetup-tls-python/2024-01-25-hack-pep736/venv/lib/python3.11/site-packages/stack_data/core.py\", line 734, in lines\n",
      "    pieces = self.included_pieces\n",
      "             ^^^^^^^^^^^^^^^^^^^^\n",
      "  File \"/home/wapiflapi/Documents/talks/meetup-tls-python/2024-01-25-hack-pep736/venv/lib/python3.11/site-packages/stack_data/utils.py\", line 145, in cached_property_wrapper\n",
      "    value = obj.__dict__[self.func.__name__] = self.func(obj)\n",
      "                                               ^^^^^^^^^^^^^^\n",
      "  File \"/home/wapiflapi/Documents/talks/meetup-tls-python/2024-01-25-hack-pep736/venv/lib/python3.11/site-packages/stack_data/core.py\", line 681, in included_pieces\n",
      "    pos = scope_pieces.index(self.executing_piece)\n",
      "                             ^^^^^^^^^^^^^^^^^^^^\n",
      "  File \"/home/wapiflapi/Documents/talks/meetup-tls-python/2024-01-25-hack-pep736/venv/lib/python3.11/site-packages/stack_data/utils.py\", line 145, in cached_property_wrapper\n",
      "    value = obj.__dict__[self.func.__name__] = self.func(obj)\n",
      "                                               ^^^^^^^^^^^^^^\n",
      "  File \"/home/wapiflapi/Documents/talks/meetup-tls-python/2024-01-25-hack-pep736/venv/lib/python3.11/site-packages/stack_data/core.py\", line 660, in executing_piece\n",
      "    return only(\n",
      "           ^^^^^\n",
      "  File \"/home/wapiflapi/Documents/talks/meetup-tls-python/2024-01-25-hack-pep736/venv/lib/python3.11/site-packages/executing/executing.py\", line 116, in only\n",
      "    raise NotOneValueFound('Expected one value, found 0')\n",
      "executing.executing.NotOneValueFound: Expected one value, found 0\n"
     ]
    }
   ],
   "source": [
    "# Try again?\n",
    "dwim()"
   ]
  },
  {
   "cell_type": "markdown",
   "id": "046a812a-fd8c-48e2-9dc1-28f535af6b32",
   "metadata": {
    "editable": true,
    "slideshow": {
     "slide_type": "slide"
    },
    "tags": []
   },
   "source": [
    "### That's an exceptionally exceptional exception exception....\n",
    "\n",
    "I think we broke it.\n",
    "\n",
    "...we couuld fix it but..."
   ]
  },
  {
   "cell_type": "markdown",
   "id": "9c3a03c7-fb66-4544-bb8c-938913202c95",
   "metadata": {
    "editable": true,
    "slideshow": {
     "slide_type": "slide"
    },
    "tags": []
   },
   "source": [
    "In no universe was there any plan  \n",
    "to do ANYTHING LIKE THIS with python\n",
    "\n",
    "**Let's go back to normal stuff.**"
   ]
  },
  {
   "cell_type": "markdown",
   "id": "81da8aea-20c8-42f0-b2fb-912a13ad816e",
   "metadata": {
    "editable": true,
    "slideshow": {
     "slide_type": "slide"
    },
    "tags": []
   },
   "source": [
    "### like... parsing the caller's AST and figure out what they are doing that way."
   ]
  },
  {
   "cell_type": "code",
   "execution_count": 129,
   "id": "ead5d6a7-2fe5-42b4-91e8-4bb66db5aa4c",
   "metadata": {
    "editable": true,
    "slideshow": {
     "slide_type": "slide"
    },
    "tags": []
   },
   "outputs": [],
   "source": [
    "def some_function(something: str, something_else: str):\n",
    "    print(f\"{something} {something_else}\")\n",
    "\n",
    "\n",
    "def test():\n",
    "    something = \"some value\"\n",
    "    something_else = \"some other value\"\n",
    "    unrelated = \"unrelated\"\n",
    "        \n",
    "    # should automatically pass \"something\", and \"something_else\"\n",
    "    some_function(**dwim())\n"
   ]
  },
  {
   "cell_type": "code",
   "execution_count": 130,
   "id": "36649b62-80b8-4fa7-a962-660ef20f44ae",
   "metadata": {
    "editable": true,
    "slideshow": {
     "slide_type": "slide"
    },
    "tags": []
   },
   "outputs": [
    {
     "name": "stdout",
     "output_type": "stream",
     "text": [
      "Parent source code is:\n",
      "def test():\n",
      "    something = \"some value\"\n",
      "    something_else = \"some other value\"\n",
      "    unrelated = \"unrelated\"\n",
      "        \n",
      "    # should automatically pass \"something\", and \"something_else\"\n",
      "    some_function(**dwim())\n",
      "\n",
      "Can we figure out who **dwim is passed to?\n"
     ]
    },
    {
     "ename": "TypeError",
     "evalue": "some_function() missing 2 required positional arguments: 'something' and 'something_else'",
     "output_type": "error",
     "traceback": [
      "\u001b[0;31m---------------------------------------------------------------------------\u001b[0m",
      "\u001b[0;31mTypeError\u001b[0m                                 Traceback (most recent call last)",
      "Cell \u001b[0;32mIn[130], line 14\u001b[0m\n\u001b[1;32m     10\u001b[0m     \u001b[38;5;28mprint\u001b[39m(\u001b[38;5;124m\"\u001b[39m\u001b[38;5;124mCan we figure out who **dwim is passed to?\u001b[39m\u001b[38;5;124m\"\u001b[39m)\n\u001b[1;32m     12\u001b[0m     \u001b[38;5;28;01mreturn\u001b[39;00m {}\n\u001b[0;32m---> 14\u001b[0m \u001b[43mtest\u001b[49m\u001b[43m(\u001b[49m\u001b[43m)\u001b[49m\n",
      "Cell \u001b[0;32mIn[129], line 11\u001b[0m, in \u001b[0;36mtest\u001b[0;34m()\u001b[0m\n\u001b[1;32m      8\u001b[0m unrelated \u001b[38;5;241m=\u001b[39m \u001b[38;5;124m\"\u001b[39m\u001b[38;5;124munrelated\u001b[39m\u001b[38;5;124m\"\u001b[39m\n\u001b[1;32m     10\u001b[0m \u001b[38;5;66;03m# should automatically pass \"something\", and \"something_else\"\u001b[39;00m\n\u001b[0;32m---> 11\u001b[0m \u001b[43msome_function\u001b[49m\u001b[43m(\u001b[49m\u001b[38;5;241;43m*\u001b[39;49m\u001b[38;5;241;43m*\u001b[39;49m\u001b[43mdwim\u001b[49m\u001b[43m(\u001b[49m\u001b[43m)\u001b[49m\u001b[43m)\u001b[49m\n",
      "\u001b[0;31mTypeError\u001b[0m: some_function() missing 2 required positional arguments: 'something' and 'something_else'"
     ]
    }
   ],
   "source": [
    "import inspect\n",
    "\n",
    "def dwim():\n",
    "    \n",
    "    caller_frame_info = inspect.stack()[1]\n",
    "    caller_source = inspect.getsource(caller_frame_info.frame.f_code)\n",
    "\n",
    "    print(\"Parent source code is:\")\n",
    "    print(caller_source)\n",
    "    print(\"Can we figure out who **dwim is passed to?\")\n",
    "    \n",
    "    return {}\n",
    "\n",
    "test()"
   ]
  },
  {
   "cell_type": "code",
   "execution_count": 131,
   "id": "186899fe-afa3-4bab-b241-51cb241bc15a",
   "metadata": {
    "editable": true,
    "slideshow": {
     "slide_type": "slide"
    },
    "tags": []
   },
   "outputs": [
    {
     "name": "stdout",
     "output_type": "stream",
     "text": [
      "node: <ast.Module object at 0x75b77b0d1c90>\n"
     ]
    },
    {
     "ename": "TypeError",
     "evalue": "some_function() missing 2 required positional arguments: 'something' and 'something_else'",
     "output_type": "error",
     "traceback": [
      "\u001b[0;31m---------------------------------------------------------------------------\u001b[0m",
      "\u001b[0;31mTypeError\u001b[0m                                 Traceback (most recent call last)",
      "Cell \u001b[0;32mIn[131], line 15\u001b[0m\n\u001b[1;32m     12\u001b[0m     print_ast_node(caller_node, caller_source)\n\u001b[1;32m     13\u001b[0m     \u001b[38;5;28;01mreturn\u001b[39;00m {}\n\u001b[0;32m---> 15\u001b[0m \u001b[43mtest\u001b[49m\u001b[43m(\u001b[49m\u001b[43m)\u001b[49m\n",
      "Cell \u001b[0;32mIn[129], line 11\u001b[0m, in \u001b[0;36mtest\u001b[0;34m()\u001b[0m\n\u001b[1;32m      8\u001b[0m unrelated \u001b[38;5;241m=\u001b[39m \u001b[38;5;124m\"\u001b[39m\u001b[38;5;124munrelated\u001b[39m\u001b[38;5;124m\"\u001b[39m\n\u001b[1;32m     10\u001b[0m \u001b[38;5;66;03m# should automatically pass \"something\", and \"something_else\"\u001b[39;00m\n\u001b[0;32m---> 11\u001b[0m \u001b[43msome_function\u001b[49m\u001b[43m(\u001b[49m\u001b[38;5;241;43m*\u001b[39;49m\u001b[38;5;241;43m*\u001b[39;49m\u001b[43mdwim\u001b[49m\u001b[43m(\u001b[49m\u001b[43m)\u001b[49m\u001b[43m)\u001b[49m\n",
      "\u001b[0;31mTypeError\u001b[0m: some_function() missing 2 required positional arguments: 'something' and 'something_else'"
     ]
    }
   ],
   "source": [
    "import ast\n",
    "\n",
    "def print_ast_node(node, code):\n",
    "    print(f\"node: {node}\")\n",
    "\n",
    "def dwim():\n",
    "    caller_frame_info = inspect.stack()[1]\n",
    "\n",
    "    caller_source = inspect.getsource(caller_frame_info.frame.f_code)\n",
    "    caller_node = ast.parse(caller_source)\n",
    "\n",
    "    print_ast_node(caller_node, caller_source)\n",
    "    return {}\n",
    "\n",
    "test()"
   ]
  },
  {
   "cell_type": "code",
   "execution_count": 132,
   "id": "1c962541-c83a-4a63-a9a7-27038f506af9",
   "metadata": {
    "editable": true,
    "slideshow": {
     "slide_type": "slide"
    },
    "tags": []
   },
   "outputs": [
    {
     "name": "stdout",
     "output_type": "stream",
     "text": [
      "Module\n",
      "  FunctionDef\n",
      "    arguments\n",
      "    Assign: `something = \"some value\"`\n",
      "      Name: `something`\n",
      "        Store\n",
      "      Constant: `\"some value\"`\n",
      "    Assign: `something_else = \"some other value\"`\n",
      "      Name: `something_else`\n",
      "        Store\n",
      "      Constant: `\"some other value\"`\n",
      "    Assign: `unrelated = \"unrelated\"`\n",
      "      Name: `unrelated`\n",
      "        Store\n",
      "      Constant: `\"unrelated\"`\n",
      "    Expr: `some_function(**dwim())`\n",
      "      Call: `some_function(**dwim())`\n",
      "        Name: `some_function`\n",
      "          Load\n",
      "        keyword: `**dwim()`\n",
      "          Call: `dwim()`\n",
      "            Name: `dwim`\n",
      "              Load\n"
     ]
    },
    {
     "ename": "TypeError",
     "evalue": "some_function() missing 2 required positional arguments: 'something' and 'something_else'",
     "output_type": "error",
     "traceback": [
      "\u001b[0;31m---------------------------------------------------------------------------\u001b[0m",
      "\u001b[0;31mTypeError\u001b[0m                                 Traceback (most recent call last)",
      "Cell \u001b[0;32mIn[132], line 15\u001b[0m\n\u001b[1;32m     12\u001b[0m     \u001b[38;5;28;01mfor\u001b[39;00m child \u001b[38;5;129;01min\u001b[39;00m ast\u001b[38;5;241m.\u001b[39miter_child_nodes(node):\n\u001b[1;32m     13\u001b[0m         print_ast_node(child, code, indent\u001b[38;5;241m=\u001b[39m\u001b[38;5;124m\"\u001b[39m\u001b[38;5;124m  \u001b[39m\u001b[38;5;124m\"\u001b[39m \u001b[38;5;241m+\u001b[39m indent)\n\u001b[0;32m---> 15\u001b[0m \u001b[43mtest\u001b[49m\u001b[43m(\u001b[49m\u001b[43m)\u001b[49m\n",
      "Cell \u001b[0;32mIn[129], line 11\u001b[0m, in \u001b[0;36mtest\u001b[0;34m()\u001b[0m\n\u001b[1;32m      8\u001b[0m unrelated \u001b[38;5;241m=\u001b[39m \u001b[38;5;124m\"\u001b[39m\u001b[38;5;124munrelated\u001b[39m\u001b[38;5;124m\"\u001b[39m\n\u001b[1;32m     10\u001b[0m \u001b[38;5;66;03m# should automatically pass \"something\", and \"something_else\"\u001b[39;00m\n\u001b[0;32m---> 11\u001b[0m \u001b[43msome_function\u001b[49m\u001b[43m(\u001b[49m\u001b[38;5;241;43m*\u001b[39;49m\u001b[38;5;241;43m*\u001b[39;49m\u001b[43mdwim\u001b[49m\u001b[43m(\u001b[49m\u001b[43m)\u001b[49m\u001b[43m)\u001b[49m\n",
      "\u001b[0;31mTypeError\u001b[0m: some_function() missing 2 required positional arguments: 'something' and 'something_else'"
     ]
    }
   ],
   "source": [
    "def print_ast_node(node, code, indent=\"\", show_code=False):\n",
    "\n",
    "    print(f\"{indent}{node.__class__.__name__}\", end=\"\")\n",
    "\n",
    "    code_segment = ast.get_source_segment(code, node)\n",
    "    \n",
    "    if code_segment and len(code_segment.splitlines()) < 2:\n",
    "        print(f\": `{code_segment}`\")\n",
    "    else:\n",
    "        print(\"\")\n",
    "    \n",
    "    for child in ast.iter_child_nodes(node):\n",
    "        print_ast_node(child, code, indent=\"  \" + indent)\n",
    "\n",
    "test()"
   ]
  },
  {
   "cell_type": "code",
   "execution_count": 133,
   "id": "1270bab6-e7bd-4274-a726-643377d75245",
   "metadata": {
    "editable": true,
    "slideshow": {
     "slide_type": "slide"
    },
    "tags": []
   },
   "outputs": [
    {
     "name": "stdout",
     "output_type": "stream",
     "text": [
      "<ast.Call object at 0x75b77b5b7130>\n",
      "some_function(**dwim())\n",
      "<ast.Call object at 0x75b77b5b7280>\n",
      "dwim()\n"
     ]
    },
    {
     "ename": "TypeError",
     "evalue": "some_function() missing 2 required positional arguments: 'something' and 'something_else'",
     "output_type": "error",
     "traceback": [
      "\u001b[0;31m---------------------------------------------------------------------------\u001b[0m",
      "\u001b[0;31mTypeError\u001b[0m                                 Traceback (most recent call last)",
      "Cell \u001b[0;32mIn[133], line 13\u001b[0m\n\u001b[1;32m      9\u001b[0m             \u001b[38;5;28mprint\u001b[39m(ast\u001b[38;5;241m.\u001b[39mget_source_segment(caller_source, child_node))\n\u001b[1;32m     11\u001b[0m     \u001b[38;5;28;01mreturn\u001b[39;00m {}\n\u001b[0;32m---> 13\u001b[0m \u001b[43mtest\u001b[49m\u001b[43m(\u001b[49m\u001b[43m)\u001b[49m\n",
      "Cell \u001b[0;32mIn[129], line 11\u001b[0m, in \u001b[0;36mtest\u001b[0;34m()\u001b[0m\n\u001b[1;32m      8\u001b[0m unrelated \u001b[38;5;241m=\u001b[39m \u001b[38;5;124m\"\u001b[39m\u001b[38;5;124munrelated\u001b[39m\u001b[38;5;124m\"\u001b[39m\n\u001b[1;32m     10\u001b[0m \u001b[38;5;66;03m# should automatically pass \"something\", and \"something_else\"\u001b[39;00m\n\u001b[0;32m---> 11\u001b[0m \u001b[43msome_function\u001b[49m\u001b[43m(\u001b[49m\u001b[38;5;241;43m*\u001b[39;49m\u001b[38;5;241;43m*\u001b[39;49m\u001b[43mdwim\u001b[49m\u001b[43m(\u001b[49m\u001b[43m)\u001b[49m\u001b[43m)\u001b[49m\n",
      "\u001b[0;31mTypeError\u001b[0m: some_function() missing 2 required positional arguments: 'something' and 'something_else'"
     ]
    }
   ],
   "source": [
    "def dwim():\n",
    "    caller_frame_info = inspect.stack()[1]\n",
    "    caller_source = inspect.getsource(caller_frame_info.frame.f_code)\n",
    "    caller_node = ast.parse(caller_source)\n",
    "\n",
    "    for child_node in ast.walk(caller_node):\n",
    "        if isinstance(child_node, ast.Call):\n",
    "            print(child_node)\n",
    "            print(ast.get_source_segment(caller_source, child_node))\n",
    "\n",
    "    return {}\n",
    "\n",
    "test()"
   ]
  },
  {
   "cell_type": "code",
   "execution_count": 134,
   "id": "36b699c5-195d-4e8a-84e1-84ea37fb4907",
   "metadata": {
    "editable": true,
    "slideshow": {
     "slide_type": "slide"
    },
    "tags": []
   },
   "outputs": [
    {
     "name": "stdout",
     "output_type": "stream",
     "text": [
      "dwim is being called from: `some_function(**dwim())`\n",
      "That has child_node.func.id='some_function'\n"
     ]
    },
    {
     "ename": "TypeError",
     "evalue": "some_function() missing 2 required positional arguments: 'something' and 'something_else'",
     "output_type": "error",
     "traceback": [
      "\u001b[0;31m---------------------------------------------------------------------------\u001b[0m",
      "\u001b[0;31mTypeError\u001b[0m                                 Traceback (most recent call last)",
      "Cell \u001b[0;32mIn[134], line 16\u001b[0m\n\u001b[1;32m     12\u001b[0m                 \u001b[38;5;28mprint\u001b[39m(\u001b[38;5;124mf\u001b[39m\u001b[38;5;124m\"\u001b[39m\u001b[38;5;124mThat has \u001b[39m\u001b[38;5;132;01m{\u001b[39;00mchild_node\u001b[38;5;241m.\u001b[39mfunc\u001b[38;5;241m.\u001b[39mid\u001b[38;5;132;01m=}\u001b[39;00m\u001b[38;5;124m\"\u001b[39m)\n\u001b[1;32m     14\u001b[0m     \u001b[38;5;28;01mreturn\u001b[39;00m {}\n\u001b[0;32m---> 16\u001b[0m \u001b[43mtest\u001b[49m\u001b[43m(\u001b[49m\u001b[43m)\u001b[49m\n",
      "Cell \u001b[0;32mIn[129], line 11\u001b[0m, in \u001b[0;36mtest\u001b[0;34m()\u001b[0m\n\u001b[1;32m      8\u001b[0m unrelated \u001b[38;5;241m=\u001b[39m \u001b[38;5;124m\"\u001b[39m\u001b[38;5;124munrelated\u001b[39m\u001b[38;5;124m\"\u001b[39m\n\u001b[1;32m     10\u001b[0m \u001b[38;5;66;03m# should automatically pass \"something\", and \"something_else\"\u001b[39;00m\n\u001b[0;32m---> 11\u001b[0m \u001b[43msome_function\u001b[49m\u001b[43m(\u001b[49m\u001b[38;5;241;43m*\u001b[39;49m\u001b[38;5;241;43m*\u001b[39;49m\u001b[43mdwim\u001b[49m\u001b[43m(\u001b[49m\u001b[43m)\u001b[49m\u001b[43m)\u001b[49m\n",
      "\u001b[0;31mTypeError\u001b[0m: some_function() missing 2 required positional arguments: 'something' and 'something_else'"
     ]
    }
   ],
   "source": [
    "def dwim():\n",
    "    caller_frame_info = inspect.stack()[1]\n",
    "    caller_source = inspect.getsource(caller_frame_info.frame.f_code)\n",
    "    caller_node = ast.parse(caller_source)\n",
    "\n",
    "    for child_node in ast.walk(caller_node):\n",
    "        if isinstance(child_node, ast.Call):\n",
    "            source_line = ast.get_source_segment(caller_source, child_node)\n",
    "\n",
    "            if \"**dwim()\" in source_line:\n",
    "                print(f\"dwim is being called from: `{source_line}`\")\n",
    "                print(f\"That has {child_node.func.id=}\")\n",
    "                \n",
    "    return {}\n",
    "\n",
    "test()"
   ]
  },
  {
   "cell_type": "code",
   "execution_count": 135,
   "id": "bdbeed59-ef2d-4b08-8d8b-4289cf75b236",
   "metadata": {
    "editable": true,
    "scrolled": true,
    "slideshow": {
     "slide_type": "slide"
    },
    "tags": []
   },
   "outputs": [
    {
     "name": "stdout",
     "output_type": "stream",
     "text": [
      "some_function\n",
      "<function some_function at 0x75b77ada3e20>\n"
     ]
    },
    {
     "ename": "TypeError",
     "evalue": "some_function() missing 2 required positional arguments: 'something' and 'something_else'",
     "output_type": "error",
     "traceback": [
      "\u001b[0;31m---------------------------------------------------------------------------\u001b[0m",
      "\u001b[0;31mTypeError\u001b[0m                                 Traceback (most recent call last)",
      "Cell \u001b[0;32mIn[135], line 24\u001b[0m\n\u001b[1;32m     20\u001b[0m     \u001b[38;5;28mprint\u001b[39m(target_function)\n\u001b[1;32m     22\u001b[0m     \u001b[38;5;28;01mreturn\u001b[39;00m {}\n\u001b[0;32m---> 24\u001b[0m \u001b[43mtest\u001b[49m\u001b[43m(\u001b[49m\u001b[43m)\u001b[49m\n",
      "Cell \u001b[0;32mIn[129], line 11\u001b[0m, in \u001b[0;36mtest\u001b[0;34m()\u001b[0m\n\u001b[1;32m      8\u001b[0m unrelated \u001b[38;5;241m=\u001b[39m \u001b[38;5;124m\"\u001b[39m\u001b[38;5;124munrelated\u001b[39m\u001b[38;5;124m\"\u001b[39m\n\u001b[1;32m     10\u001b[0m \u001b[38;5;66;03m# should automatically pass \"something\", and \"something_else\"\u001b[39;00m\n\u001b[0;32m---> 11\u001b[0m \u001b[43msome_function\u001b[49m\u001b[43m(\u001b[49m\u001b[38;5;241;43m*\u001b[39;49m\u001b[38;5;241;43m*\u001b[39;49m\u001b[43mdwim\u001b[49m\u001b[43m(\u001b[49m\u001b[43m)\u001b[49m\u001b[43m)\u001b[49m\n",
      "\u001b[0;31mTypeError\u001b[0m: some_function() missing 2 required positional arguments: 'something' and 'something_else'"
     ]
    }
   ],
   "source": [
    "def dwim():\n",
    "    caller_frame_info = inspect.stack()[1]\n",
    "    caller_source = inspect.getsource(caller_frame_info.frame.f_code)\n",
    "    caller_node = ast.parse(caller_source)\n",
    "\n",
    "    for child_node in ast.walk(caller_node):\n",
    "        if isinstance(child_node, ast.Call):\n",
    "            source_line = ast.get_source_segment(caller_source, child_node)\n",
    "            if \"**dwim()\" in source_line:\n",
    "                function_name = child_node.func.id\n",
    "    \n",
    "    if function_name in caller_frame_info.frame.f_locals:\n",
    "        variables = caller_frame_info.frame.f_locals\n",
    "    else:\n",
    "        variables = caller_frame_info.frame.f_globals\n",
    "\n",
    "    target_function = variables[function_name]\n",
    " \n",
    "    print(function_name)\n",
    "    print(target_function)\n",
    "    \n",
    "    return {}\n",
    "\n",
    "test()"
   ]
  },
  {
   "cell_type": "markdown",
   "id": "b2020a9b-3c4e-4c83-b963-20f9e22fae3c",
   "metadata": {
    "editable": true,
    "jp-MarkdownHeadingCollapsed": true,
    "slideshow": {
     "slide_type": "slide"
    },
    "tags": []
   },
   "source": [
    "### Remember ?"
   ]
  },
  {
   "cell_type": "code",
   "execution_count": 136,
   "id": "740a63e3-1252-483a-884f-7140318cf99c",
   "metadata": {
    "editable": true,
    "slideshow": {
     "slide_type": ""
    },
    "tags": []
   },
   "outputs": [
    {
     "name": "stdout",
     "output_type": "stream",
     "text": [
      "some value some other value\n"
     ]
    }
   ],
   "source": [
    "def dwim(f):\n",
    "    frame_info = inspect.stack()[1]\n",
    "    return limited_partial(f, **frame_info.frame.f_locals)\n",
    "\n",
    "def test():\n",
    "    something = \"some value\"\n",
    "    something_else = \"some other value\"\n",
    "    unrelated = \"unrelated\"\n",
    "\n",
    "    dwim(some_function)()\n",
    "\n",
    "test()"
   ]
  },
  {
   "cell_type": "code",
   "execution_count": 55,
   "id": "50d79b69-f39b-4b5d-a405-5890ceb04c76",
   "metadata": {
    "editable": true,
    "slideshow": {
     "slide_type": "slide"
    },
    "tags": []
   },
   "outputs": [
    {
     "ename": "TypeError",
     "evalue": "some_function() missing 2 required positional arguments: 'something' and 'something_else'",
     "output_type": "error",
     "traceback": [
      "\u001b[0;31m---------------------------------------------------------------------------\u001b[0m",
      "\u001b[0;31mTypeError\u001b[0m                                 Traceback (most recent call last)",
      "Cell \u001b[0;32mIn[55], line 38\u001b[0m\n\u001b[1;32m     35\u001b[0m     \u001b[38;5;66;03m# should automatically pass \"something\", and \"something_else\"\u001b[39;00m\n\u001b[1;32m     36\u001b[0m     some_function(\u001b[38;5;241m*\u001b[39m\u001b[38;5;241m*\u001b[39mdwim())\n\u001b[0;32m---> 38\u001b[0m \u001b[43mtest\u001b[49m\u001b[43m(\u001b[49m\u001b[43m)\u001b[49m\n",
      "Cell \u001b[0;32mIn[55], line 36\u001b[0m, in \u001b[0;36mtest\u001b[0;34m()\u001b[0m\n\u001b[1;32m     33\u001b[0m unrelated \u001b[38;5;241m=\u001b[39m \u001b[38;5;124m\"\u001b[39m\u001b[38;5;124munrelated\u001b[39m\u001b[38;5;124m\"\u001b[39m\n\u001b[1;32m     35\u001b[0m \u001b[38;5;66;03m# should automatically pass \"something\", and \"something_else\"\u001b[39;00m\n\u001b[0;32m---> 36\u001b[0m \u001b[43msome_function\u001b[49m\u001b[43m(\u001b[49m\u001b[38;5;241;43m*\u001b[39;49m\u001b[38;5;241;43m*\u001b[39;49m\u001b[43mdwim\u001b[49m\u001b[43m(\u001b[49m\u001b[43m)\u001b[49m\u001b[43m)\u001b[49m\n",
      "\u001b[0;31mTypeError\u001b[0m: some_function() missing 2 required positional arguments: 'something' and 'something_else'"
     ]
    }
   ],
   "source": [
    "def dwim():\n",
    "    caller_frame_info = inspect.stack()[1]\n",
    "    caller_source = inspect.getsource(caller_frame_info.frame.f_code)\n",
    "    caller_node = ast.parse(caller_source)\n",
    "\n",
    "    for child_node in ast.walk(caller_node):\n",
    "        if isinstance(child_node, ast.Call):\n",
    "            source_line = ast.get_source_segment(caller_source, child_node)\n",
    "            if \"**dwim()\" in source_line:\n",
    "                function_name = child_node.func.id\n",
    "    \n",
    "    if function_name in caller_frame_info.frame.f_locals:\n",
    "        variables = caller_frame_info.frame.f_locals\n",
    "    else:\n",
    "        variables = caller_frame_info.frame.f_globals\n",
    "\n",
    "    target_function = variables[function_name]\n",
    "\n",
    "    # shouldn't this work ? \n",
    "    variables[function_name] = limited_partial(\n",
    "        target_function,\n",
    "        **caller_frame_info.frame.f_locals,\n",
    "    )\n",
    "    \n",
    "    return {}\n",
    "\n",
    "def some_function(something: str, something_else: str):\n",
    "    print(f\"{something} {something_else}\")\n",
    "\n",
    "def test():\n",
    "    something = \"some value\"\n",
    "    something_else = \"some other value\"\n",
    "    unrelated = \"unrelated\"\n",
    "        \n",
    "    # should automatically pass \"something\", and \"something_else\"\n",
    "    some_function(**dwim())\n",
    "\n",
    "test()"
   ]
  },
  {
   "cell_type": "code",
   "execution_count": 56,
   "id": "f7356939-762b-4a2e-a7e0-ffd9becffb12",
   "metadata": {
    "editable": true,
    "slideshow": {
     "slide_type": "slide"
    },
    "tags": []
   },
   "outputs": [
    {
     "name": "stdout",
     "output_type": "stream",
     "text": [
      "ok we had an error... but let's check?\n",
      "Calling: <function limited_partial.<locals>.newfunc at 0x75b77add5a80>\n",
      "some value some other value\n",
      "That worked! Without any arguments...\n"
     ]
    }
   ],
   "source": [
    "def some_function(something: str, something_else: str):\n",
    "    print(f\"{something} {something_else}\")\n",
    "\n",
    "def test():\n",
    "    something = \"some value\"\n",
    "    something_else = \"some other value\"\n",
    "    unrelated = \"unrelated\"\n",
    "        \n",
    "    try:\n",
    "        some_function(**dwim())\n",
    "    except TypeError:\n",
    "        print(\"ok we had an error... but let's check?\")\n",
    "        print(f\"Calling: {some_function}\")\n",
    "        some_function()\n",
    "        print(\"That worked! Without any arguments...\")\n",
    "\n",
    "test()"
   ]
  },
  {
   "cell_type": "code",
   "execution_count": 58,
   "id": "7f00ed97-0757-467c-b53a-40c3dd8479a8",
   "metadata": {
    "editable": true,
    "slideshow": {
     "slide_type": "slide"
    },
    "tags": []
   },
   "outputs": [
    {
     "name": "stdout",
     "output_type": "stream",
     "text": [
      "  4           0 RESUME                   0\n",
      "\n",
      "  5           2 LOAD_CONST               1 ('some value')\n",
      "              4 STORE_FAST               0 (something)\n",
      "\n",
      "  6           6 LOAD_CONST               2 ('some other value')\n",
      "              8 STORE_FAST               1 (something_else)\n",
      "\n",
      "  7          10 LOAD_CONST               3 ('unrelated')\n",
      "             12 STORE_FAST               2 (unrelated)\n",
      "\n",
      "  9          14 LOAD_GLOBAL              1 (NULL + some_function)\n",
      "             26 LOAD_CONST               4 (())\n",
      "             28 BUILD_MAP                0\n",
      "             30 LOAD_GLOBAL              3 (NULL + dwim)\n",
      "             42 PRECALL                  0\n",
      "             46 CALL                     0\n",
      "             56 DICT_MERGE               1\n",
      "             58 CALL_FUNCTION_EX         1\n",
      "             60 POP_TOP\n",
      "             62 LOAD_CONST               0 (None)\n",
      "             64 RETURN_VALUE\n"
     ]
    }
   ],
   "source": [
    "\n",
    "def some_function(something: str, something_else: str):\n",
    "    print(f\"{something} {something_else}\")\n",
    "\n",
    "def test():\n",
    "    something = \"some value\"\n",
    "    something_else = \"some other value\"\n",
    "    unrelated = \"unrelated\"\n",
    "        \n",
    "    some_function(**dwim())\n",
    "\n",
    "dis.dis(test)"
   ]
  },
  {
   "cell_type": "markdown",
   "id": "d11a68a3-00cc-4dca-a61f-b89c4e847515",
   "metadata": {
    "editable": true,
    "slideshow": {
     "slide_type": "slide"
    },
    "tags": []
   },
   "source": [
    "### The function is loaded BEFORE we get to overwrite it...\n",
    "\n",
    "We should have seen that comming X__X\n",
    "\n",
    "(We could try patching the `target_function.__code__` instead... but that's a whole other can of worms.) \n"
   ]
  },
  {
   "cell_type": "code",
   "execution_count": 59,
   "id": "966e8baf-bca5-4f18-9df1-b320c7654ebe",
   "metadata": {
    "editable": true,
    "slideshow": {
     "slide_type": "slide"
    },
    "tags": []
   },
   "outputs": [
    {
     "name": "stdout",
     "output_type": "stream",
     "text": [
      "f sees <function g at 0x75b77add5a80>\n",
      "g sees <function g at 0x75b77add5a80>\n"
     ]
    }
   ],
   "source": [
    "# Fun fact:\n",
    "\n",
    "def f(arg):\n",
    "    print(f\"f sees {arg}\")\n",
    "\n",
    "def g(arg):\n",
    "    print(f\"g sees {arg}\")\n",
    "\n",
    "f(f := g)\n",
    "f(f := g)"
   ]
  },
  {
   "cell_type": "markdown",
   "id": "dfed9c08-9343-4dfd-bee3-dc342d6d7b7c",
   "metadata": {
    "editable": true,
    "slideshow": {
     "slide_type": "slide"
    },
    "tags": []
   },
   "source": [
    "\n",
    "We're back to returning a dict...\n",
    "\n",
    "But since we have the target function, we can look at it's expected arguments!\n",
    "\n",
    "```python\n",
    "    signature = inspect.signature(target_function)\n",
    "\n",
    "    keywords = {\n",
    "        param: caller_frame_info.frame.f_locals[param]\n",
    "        for param in signature.parameters\n",
    "        if param in caller_frame_info.frame.f_locals\n",
    "    }\n",
    "    ```"
   ]
  },
  {
   "cell_type": "code",
   "execution_count": 138,
   "id": "a938bc0b-a2c2-4d75-ad71-4567c897a2e3",
   "metadata": {
    "editable": true,
    "slideshow": {
     "slide_type": "slide"
    },
    "tags": []
   },
   "outputs": [],
   "source": [
    "import ast\n",
    "\n",
    "def dwim():\n",
    "    caller_frame_info = inspect.stack()[1]\n",
    "    caller_source = inspect.getsource(caller_frame_info.frame.f_code)\n",
    "    caller_node = ast.parse(caller_source)\n",
    "\n",
    "    for child_node in ast.walk(caller_node):\n",
    "        if isinstance(child_node, ast.Call):\n",
    "            source_line = ast.get_source_segment(caller_source, child_node)\n",
    "            if \"**dwim()\" in source_line:\n",
    "                function_name = child_node.func.id\n",
    "    \n",
    "    if function_name in caller_frame_info.frame.f_locals:\n",
    "        variables = caller_frame_info.frame.f_locals\n",
    "    else:\n",
    "        variables = caller_frame_info.frame.f_globals\n",
    "\n",
    "    target_function = variables[function_name]\n",
    "\n",
    "    signature = inspect.signature(target_function)\n",
    "\n",
    "    keywords = {\n",
    "        param: caller_frame_info.frame.f_locals[param]\n",
    "        for param in signature.parameters\n",
    "        if param in caller_frame_info.frame.f_locals\n",
    "    }\n",
    "\n",
    "    print(f\"Injecting: {keywords}\")\n",
    "    return keywords"
   ]
  },
  {
   "cell_type": "code",
   "execution_count": 139,
   "id": "cad5bac2-b1f7-4acc-a96d-46f220de928f",
   "metadata": {
    "editable": true,
    "slideshow": {
     "slide_type": "slide"
    },
    "tags": []
   },
   "outputs": [
    {
     "name": "stdout",
     "output_type": "stream",
     "text": [
      "Injecting: {'something': 'some value', 'something_else': 'some other value'}\n",
      "some value some other value\n"
     ]
    }
   ],
   "source": [
    "def test():\n",
    "    something = \"some value\"\n",
    "    something_else = \"some other value\"\n",
    "    unrelated = \"unrelated\"\n",
    "\n",
    "    some_function(**dwim())\n",
    "    \n",
    "test()"
   ]
  },
  {
   "cell_type": "code",
   "execution_count": 140,
   "id": "16a877f7-1b0b-462c-b667-2fc0306a13cd",
   "metadata": {
    "editable": true,
    "slideshow": {
     "slide_type": "slide"
    },
    "tags": []
   },
   "outputs": [
    {
     "name": "stdout",
     "output_type": "stream",
     "text": [
      "Injecting: {'something': 'this is', 'something_else': 'pretty cool!'}\n",
      "this is pretty cool!\n"
     ]
    }
   ],
   "source": [
    "\n",
    "def test():\n",
    "    something = \"this is\"\n",
    "    something_else = \"pretty cool!\"\n",
    "    unrelated = \"unrelated\"\n",
    "       \n",
    "    some_function(**dwim())\n",
    "\n",
    "test()"
   ]
  },
  {
   "cell_type": "markdown",
   "id": "ec7d04fe-48a2-4c36-ad0a-ddf9a5d88c03",
   "metadata": {
    "editable": true,
    "slideshow": {
     "slide_type": "slide"
    },
    "tags": []
   },
   "source": [
    "# Problems with this implementation\n",
    "- what if `from dwim import dwim as weird`? then it's no longer `**dwim()`\n",
    "- what if the source code is not \"alligned\"?\n",
    "- what if there are multiple `**dwim()` in the caller's code? "
   ]
  },
  {
   "cell_type": "code",
   "execution_count": 167,
   "id": "332441e3-f4f9-4669-84fa-f3739ad81280",
   "metadata": {
    "editable": true,
    "slideshow": {
     "slide_type": "slide"
    },
    "tags": []
   },
   "outputs": [
    {
     "name": "stdout",
     "output_type": "stream",
     "text": [
      "Injecting: {'something': 'this is', 'something_else': 'pretty cool!'}\n"
     ]
    },
    {
     "ename": "TypeError",
     "evalue": "__main__.some_function() got multiple values for keyword argument 'something'",
     "output_type": "error",
     "traceback": [
      "\u001b[0;31m---------------------------------------------------------------------------\u001b[0m",
      "\u001b[0;31mTypeError\u001b[0m                                 Traceback (most recent call last)",
      "Cell \u001b[0;32mIn[167], line 8\u001b[0m\n\u001b[1;32m      4\u001b[0m     unrelated \u001b[38;5;241m=\u001b[39m \u001b[38;5;124m\"\u001b[39m\u001b[38;5;124munrelated\u001b[39m\u001b[38;5;124m\"\u001b[39m\n\u001b[1;32m      6\u001b[0m     some_function(something\u001b[38;5;241m=\u001b[39m\u001b[38;5;124m\"\u001b[39m\u001b[38;5;124mhardcoded!\u001b[39m\u001b[38;5;124m\"\u001b[39m, \u001b[38;5;241m*\u001b[39m\u001b[38;5;241m*\u001b[39mdwim())\n\u001b[0;32m----> 8\u001b[0m \u001b[43mtest\u001b[49m\u001b[43m(\u001b[49m\u001b[43m)\u001b[49m\n",
      "Cell \u001b[0;32mIn[167], line 6\u001b[0m, in \u001b[0;36mtest\u001b[0;34m()\u001b[0m\n\u001b[1;32m      3\u001b[0m something_else \u001b[38;5;241m=\u001b[39m \u001b[38;5;124m\"\u001b[39m\u001b[38;5;124mpretty cool!\u001b[39m\u001b[38;5;124m\"\u001b[39m\n\u001b[1;32m      4\u001b[0m unrelated \u001b[38;5;241m=\u001b[39m \u001b[38;5;124m\"\u001b[39m\u001b[38;5;124munrelated\u001b[39m\u001b[38;5;124m\"\u001b[39m\n\u001b[0;32m----> 6\u001b[0m some_function(something\u001b[38;5;241m=\u001b[39m\u001b[38;5;124m\"\u001b[39m\u001b[38;5;124mhardcoded!\u001b[39m\u001b[38;5;124m\"\u001b[39m, \u001b[38;5;241m*\u001b[39m\u001b[38;5;241m*\u001b[39mdwim())\n",
      "\u001b[0;31mTypeError\u001b[0m: __main__.some_function() got multiple values for keyword argument 'something'"
     ]
    }
   ],
   "source": [
    "\n",
    "def test():\n",
    "    something = \"this is\"\n",
    "    something_else = \"pretty cool!\"\n",
    "    unrelated = \"unrelated\"\n",
    "       \n",
    "    some_function(something=\"hardcoded!\", **dwim())\n",
    "\n",
    "test()"
   ]
  },
  {
   "cell_type": "markdown",
   "id": "d7cb9409-75d4-4bb3-95da-ff8830264d8e",
   "metadata": {
    "editable": true,
    "slideshow": {
     "slide_type": "slide"
    },
    "tags": []
   },
   "source": [
    "# I fixed most of this ! Go look at the repo.\n"
   ]
  },
  {
   "cell_type": "markdown",
   "id": "d8c62db1-a58d-4664-8c20-a50c4f2f4063",
   "metadata": {
    "editable": true,
    "slideshow": {
     "slide_type": ""
    },
    "tags": []
   },
   "source": [
    "... That can be fixed. We parse the AST and look at what is hardcoded, don't pass those values (I'm doing that)\n"
   ]
  },
  {
   "cell_type": "code",
   "execution_count": 68,
   "id": "917d5f67-b4fa-42f6-9649-b00ab0d4b153",
   "metadata": {
    "editable": true,
    "slideshow": {
     "slide_type": "slide"
    },
    "tags": []
   },
   "outputs": [
    {
     "name": "stdout",
     "output_type": "stream",
     "text": [
      "Injecting: {}\n"
     ]
    },
    {
     "ename": "TypeError",
     "evalue": "some_function() missing 2 required positional arguments: 'something' and 'something_else'",
     "output_type": "error",
     "traceback": [
      "\u001b[0;31m---------------------------------------------------------------------------\u001b[0m",
      "\u001b[0;31mTypeError\u001b[0m                                 Traceback (most recent call last)",
      "Cell \u001b[0;32mIn[68], line 13\u001b[0m\n\u001b[1;32m      8\u001b[0m     some_function(\u001b[38;5;241m*\u001b[39mget_args(), \u001b[38;5;241m*\u001b[39m\u001b[38;5;241m*\u001b[39mdwim(), \u001b[38;5;241m*\u001b[39m\u001b[38;5;241m*\u001b[39mget_kwargs())\n\u001b[1;32m     10\u001b[0m     \u001b[38;5;66;03m# We lost :-(\u001b[39;00m\n\u001b[1;32m     11\u001b[0m     \u001b[38;5;66;03m# Let's just wait for pep 736\u001b[39;00m\n\u001b[0;32m---> 13\u001b[0m \u001b[43mtest\u001b[49m\u001b[43m(\u001b[49m\u001b[43m)\u001b[49m\n",
      "Cell \u001b[0;32mIn[68], line 8\u001b[0m, in \u001b[0;36mtest\u001b[0;34m()\u001b[0m\n\u001b[1;32m      7\u001b[0m \u001b[38;5;28;01mdef\u001b[39;00m \u001b[38;5;21mtest\u001b[39m():\n\u001b[0;32m----> 8\u001b[0m     \u001b[43msome_function\u001b[49m\u001b[43m(\u001b[49m\u001b[38;5;241;43m*\u001b[39;49m\u001b[43mget_args\u001b[49m\u001b[43m(\u001b[49m\u001b[43m)\u001b[49m\u001b[43m,\u001b[49m\u001b[43m \u001b[49m\u001b[38;5;241;43m*\u001b[39;49m\u001b[38;5;241;43m*\u001b[39;49m\u001b[43mdwim\u001b[49m\u001b[43m(\u001b[49m\u001b[43m)\u001b[49m\u001b[43m,\u001b[49m\u001b[43m \u001b[49m\u001b[38;5;241;43m*\u001b[39;49m\u001b[38;5;241;43m*\u001b[39;49m\u001b[43mget_kwargs\u001b[49m\u001b[43m(\u001b[49m\u001b[43m)\u001b[49m\u001b[43m)\u001b[49m\n",
      "\u001b[0;31mTypeError\u001b[0m: some_function() missing 2 required positional arguments: 'something' and 'something_else'"
     ]
    }
   ],
   "source": [
    "def get_args():\n",
    "    return ()  # maybe based on random ?\n",
    "\n",
    "def get_kwargs():\n",
    "    return {}  # maybe based on random ?\n",
    "\n",
    "def test():\n",
    "    some_function(*get_args(), **dwim(), **get_kwargs())\n",
    "\n",
    "    # We lost :-(\n",
    "    # Let's just wait for pep 736\n",
    "\n",
    "test()"
   ]
  }
 ],
 "metadata": {
  "celltoolbar": "Slideshow",
  "kernelspec": {
   "display_name": "Python 3 (ipykernel)",
   "language": "python",
   "name": "python3"
  },
  "language_info": {
   "codemirror_mode": {
    "name": "ipython",
    "version": 3
   },
   "file_extension": ".py",
   "mimetype": "text/x-python",
   "name": "python",
   "nbconvert_exporter": "python",
   "pygments_lexer": "ipython3",
   "version": "3.11.0rc1"
  },
  "rise": {
   "scroll": true
  }
 },
 "nbformat": 4,
 "nbformat_minor": 5
}
