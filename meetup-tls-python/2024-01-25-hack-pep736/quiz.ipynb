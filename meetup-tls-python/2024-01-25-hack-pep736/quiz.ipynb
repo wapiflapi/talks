{
 "cells": [
  {
   "cell_type": "code",
   "execution_count": 14,
   "id": "e07a00f9-d0f5-4179-9a6a-6e10331de91f",
   "metadata": {
    "editable": true,
    "slideshow": {
     "slide_type": "slide"
    },
    "tags": []
   },
   "outputs": [
    {
     "name": "stdout",
     "output_type": "stream",
     "text": [
      "f sees (123,)\n"
     ]
    }
   ],
   "source": [
    "def f(*args):\n",
    "    print(f\"f sees {args}\")\n",
    "\n",
    "f(123)"
   ]
  },
  {
   "cell_type": "code",
   "execution_count": 15,
   "id": "8a20a433-36cf-41fa-a3a0-b92f0863a2d1",
   "metadata": {
    "editable": true,
    "slideshow": {
     "slide_type": "slide"
    },
    "tags": []
   },
   "outputs": [
    {
     "ename": "SyntaxError",
     "evalue": "invalid syntax (2334884967.py, line 3)",
     "output_type": "error",
     "traceback": [
      "\u001b[0;36m  Cell \u001b[0;32mIn[15], line 3\u001b[0;36m\u001b[0m\n\u001b[0;31m    f(a += 1)\u001b[0m\n\u001b[0m        ^\u001b[0m\n\u001b[0;31mSyntaxError\u001b[0m\u001b[0;31m:\u001b[0m invalid syntax\n"
     ]
    }
   ],
   "source": [
    "a = 1\n",
    "f(a)\n",
    "f(a += 1)"
   ]
  },
  {
   "cell_type": "code",
   "execution_count": 17,
   "id": "70247024-012a-431b-ad6c-17d05cfee5b9",
   "metadata": {
    "editable": true,
    "slideshow": {
     "slide_type": "slide"
    },
    "tags": []
   },
   "outputs": [
    {
     "name": "stdout",
     "output_type": "stream",
     "text": [
      "f sees (1,)\n"
     ]
    },
    {
     "ename": "UnboundLocalError",
     "evalue": "cannot access local variable 'a' where it is not associated with a value",
     "output_type": "error",
     "traceback": [
      "\u001b[0;31m---------------------------------------------------------------------------\u001b[0m",
      "\u001b[0;31mUnboundLocalError\u001b[0m                         Traceback (most recent call last)",
      "Cell \u001b[0;32mIn[17], line 8\u001b[0m\n\u001b[1;32m      5\u001b[0m     \u001b[38;5;28;01mreturn\u001b[39;00m a\n\u001b[1;32m      7\u001b[0m f(a)\n\u001b[0;32m----> 8\u001b[0m f(\u001b[43minc_and_ret_a\u001b[49m\u001b[43m(\u001b[49m\u001b[43m)\u001b[49m)\n",
      "Cell \u001b[0;32mIn[17], line 4\u001b[0m, in \u001b[0;36minc_and_ret_a\u001b[0;34m()\u001b[0m\n\u001b[1;32m      3\u001b[0m \u001b[38;5;28;01mdef\u001b[39;00m \u001b[38;5;21minc_and_ret_a\u001b[39m():\n\u001b[0;32m----> 4\u001b[0m     \u001b[43ma\u001b[49m \u001b[38;5;241m+\u001b[39m\u001b[38;5;241m=\u001b[39m \u001b[38;5;241m1\u001b[39m\n\u001b[1;32m      5\u001b[0m     \u001b[38;5;28;01mreturn\u001b[39;00m a\n",
      "\u001b[0;31mUnboundLocalError\u001b[0m: cannot access local variable 'a' where it is not associated with a value"
     ]
    }
   ],
   "source": [
    "a = 1\n",
    "\n",
    "def inc_and_ret_a():\n",
    "    a += 1\n",
    "    return a\n",
    "\n",
    "f(a)\n",
    "f(inc_and_ret_a())"
   ]
  },
  {
   "cell_type": "code",
   "execution_count": 19,
   "id": "92dbdc05-ecba-4975-a184-fadafe78c922",
   "metadata": {
    "editable": true,
    "slideshow": {
     "slide_type": "slide"
    },
    "tags": []
   },
   "outputs": [
    {
     "name": "stdout",
     "output_type": "stream",
     "text": [
      "f sees (1,)\n",
      "f sees (2,)\n"
     ]
    }
   ],
   "source": [
    "a = 1\n",
    "\n",
    "def inc_and_ret_a():\n",
    "    global a\n",
    "    a += 1\n",
    "    return a\n",
    "\n",
    "f(a)\n",
    "f(inc_and_ret_a())"
   ]
  },
  {
   "cell_type": "code",
   "execution_count": 20,
   "id": "95107d7c-3156-4828-85b0-a27b973776c1",
   "metadata": {
    "editable": true,
    "slideshow": {
     "slide_type": "slide"
    },
    "tags": []
   },
   "outputs": [
    {
     "name": "stdout",
     "output_type": "stream",
     "text": [
      "f sees (1, 2, 3)\n"
     ]
    }
   ],
   "source": [
    "a = 1\n",
    "\n",
    "f(a, inc_and_ret_a(), inc_and_ret_a())"
   ]
  },
  {
   "cell_type": "code",
   "execution_count": 21,
   "id": "60adc84e-6375-476c-9242-41edb5518ac4",
   "metadata": {
    "editable": true,
    "slideshow": {
     "slide_type": "fragment"
    },
    "tags": []
   },
   "outputs": [
    {
     "name": "stdout",
     "output_type": "stream",
     "text": [
      "f sees (2, 3, 3)\n"
     ]
    }
   ],
   "source": [
    "a = 1\n",
    "\n",
    "f(inc_and_ret_a(), inc_and_ret_a(), a)"
   ]
  },
  {
   "cell_type": "code",
   "execution_count": 22,
   "id": "af991373-55e7-47a4-8a79-39923dee13e7",
   "metadata": {
    "editable": true,
    "slideshow": {
     "slide_type": "slide"
    },
    "tags": []
   },
   "outputs": [
    {
     "name": "stdout",
     "output_type": "stream",
     "text": [
      "f sees (2,)\n",
      "f sees (3,)\n"
     ]
    }
   ],
   "source": [
    "a = 1\n",
    "\n",
    "f(a := a + 1)\n",
    "f(a := a + 1)"
   ]
  },
  {
   "cell_type": "code",
   "execution_count": 23,
   "id": "cf779177-123f-4cf8-b181-fa7e8a2c81ee",
   "metadata": {
    "editable": true,
    "slideshow": {
     "slide_type": "fragment"
    },
    "tags": []
   },
   "outputs": [
    {
     "name": "stdout",
     "output_type": "stream",
     "text": [
      "f sees (2, 3, 4)\n"
     ]
    }
   ],
   "source": [
    "a = 1\n",
    "\n",
    "f(a := a + 1, a := a + 1, a := a + 1)"
   ]
  },
  {
   "cell_type": "code",
   "execution_count": 25,
   "id": "e19ecea1-9a41-4dfc-b50b-d02424fc7a46",
   "metadata": {
    "editable": true,
    "slideshow": {
     "slide_type": "slide"
    },
    "tags": []
   },
   "outputs": [
    {
     "name": "stdout",
     "output_type": "stream",
     "text": [
      "f sees (10, 100)\n",
      "10\n",
      "100\n"
     ]
    }
   ],
   "source": [
    "a = 1\n",
    "b = 10\n",
    "\n",
    "f(a := b, b := 100)\n",
    "print(a)\n",
    "print(b)"
   ]
  },
  {
   "cell_type": "code",
   "execution_count": 26,
   "id": "265b20dd-868a-4ae3-9c98-a965241c3c6a",
   "metadata": {
    "editable": true,
    "slideshow": {
     "slide_type": "slide"
    },
    "tags": []
   },
   "outputs": [
    {
     "name": "stdout",
     "output_type": "stream",
     "text": [
      "f sees a=1\n",
      "f sees (10, 100)\n"
     ]
    }
   ],
   "source": [
    "a = 1\n",
    "\n",
    "def f(*args):\n",
    "    global a\n",
    "    print(f\"f sees {a=}\")\n",
    "    print(f\"f sees {args}\")\n",
    "\n",
    "f(10, 100)"
   ]
  },
  {
   "cell_type": "code",
   "execution_count": 27,
   "id": "baccd32b-098d-4d51-90cc-544378a201a8",
   "metadata": {
    "editable": true,
    "slideshow": {
     "slide_type": "slide"
    },
    "tags": []
   },
   "outputs": [
    {
     "name": "stdout",
     "output_type": "stream",
     "text": [
      "f sees a=10\n",
      "f sees (10, 100)\n"
     ]
    }
   ],
   "source": [
    "a = 1\n",
    "\n",
    "def f(*args):\n",
    "    global a\n",
    "    print(f\"f sees {a=}\")\n",
    "    print(f\"f sees {args}\")\n",
    "\n",
    "f(a := 10, 100)"
   ]
  },
  {
   "cell_type": "code",
   "execution_count": 28,
   "id": "3c996803-4d41-41ec-85ba-bbc193a6092a",
   "metadata": {
    "editable": true,
    "slideshow": {
     "slide_type": "slide"
    },
    "tags": []
   },
   "outputs": [
    {
     "name": "stdout",
     "output_type": "stream",
     "text": [
      "f sees (<function f at 0x7439c04298a0>,)\n",
      "g sees (<function g at 0x7439c0429580>,)\n"
     ]
    }
   ],
   "source": [
    "def f(*args):\n",
    "    print(f\"f sees {args}\")\n",
    "\n",
    "def g(*args):\n",
    "    print(f\"g sees {args}\")\n",
    "\n",
    "f(f)\n",
    "g(g)"
   ]
  },
  {
   "cell_type": "code",
   "execution_count": 30,
   "id": "d1036d3e-6cab-46a8-9c21-ca9224846b06",
   "metadata": {
    "editable": true,
    "slideshow": {
     "slide_type": "fragment"
    },
    "tags": []
   },
   "outputs": [
    {
     "name": "stdout",
     "output_type": "stream",
     "text": [
      "g sees (<function g at 0x7439c0429580>,)\n"
     ]
    }
   ],
   "source": [
    "f(f := g)"
   ]
  },
  {
   "cell_type": "code",
   "execution_count": 31,
   "id": "f2126807-1abf-4921-ab4c-2d9a1fae76ef",
   "metadata": {
    "editable": true,
    "slideshow": {
     "slide_type": "slide"
    },
    "tags": []
   },
   "outputs": [
    {
     "name": "stdout",
     "output_type": "stream",
     "text": [
      "g sees (<function g at 0x7439c0429580>,)\n",
      "g sees (<function g at 0x7439c0429580>,)\n"
     ]
    }
   ],
   "source": [
    "assert f is g\n",
    "f(f)\n",
    "g(g)"
   ]
  },
  {
   "cell_type": "code",
   "execution_count": 34,
   "id": "3cedc12b-9f0f-4e39-bd5f-e24ab9552578",
   "metadata": {
    "editable": true,
    "slideshow": {
     "slide_type": "slide"
    },
    "tags": []
   },
   "outputs": [
    {
     "name": "stdout",
     "output_type": "stream",
     "text": [
      "f sees (<function g at 0x7439c0429580>,)\n",
      "<function g at 0x7439c0429580>\n"
     ]
    }
   ],
   "source": [
    "def f(*args):\n",
    "    print(f\"f sees {args}\")\n",
    "\n",
    "def g(*args):\n",
    "    print(f\"g sees {args}\")\n",
    "\n",
    "f(f := g)  # I think this is unexpected and weird.\n",
    "print(f)   # We will find out why !"
   ]
  }
 ],
 "metadata": {
  "kernelspec": {
   "display_name": "Python 3 (ipykernel)",
   "language": "python",
   "name": "python3"
  },
  "language_info": {
   "codemirror_mode": {
    "name": "ipython",
    "version": 3
   },
   "file_extension": ".py",
   "mimetype": "text/x-python",
   "name": "python",
   "nbconvert_exporter": "python",
   "pygments_lexer": "ipython3",
   "version": "3.11.0rc1"
  }
 },
 "nbformat": 4,
 "nbformat_minor": 5
}
