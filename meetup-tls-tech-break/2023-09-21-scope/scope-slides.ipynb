{
 "cells": [
  {
   "cell_type": "markdown",
   "id": "ad921531",
   "metadata": {
    "slideshow": {
     "slide_type": "slide"
    }
   },
   "source": [
    "# Python\n",
    "\n",
    "\n",
    "### Novice to Expert: State, Scope, Context\n",
    "\n"
   ]
  },
  {
   "cell_type": "markdown",
   "id": "a9c371ab",
   "metadata": {
    "slideshow": {
     "slide_type": "notes"
    }
   },
   "source": [
    "*finish at 2min (2 min)*\n",
    "\n",
    "\n",
    "**Levez la main si vous codez régulièrement.**  \n",
    "(metier, études, hobby)\n",
    "\n",
    "**Baissez la main si:**\n",
    "- Vous n'avez jamais fait de python du tout\n",
    "- Vous n'avez jamais fait de python serieusement (metier, études)\n",
    "- Vous ne vous considérez pas confirmé / senior sur python\n",
    "- Vous n'avez jamais fait de talk sur python"
   ]
  },
  {
   "cell_type": "code",
   "execution_count": 1,
   "id": "1029ddd1",
   "metadata": {
    "slideshow": {
     "slide_type": "slide"
    }
   },
   "outputs": [],
   "source": [
    "name = \"Wannes Rombouts\"\n",
    "nickname = \"wapiflapi\""
   ]
  },
  {
   "cell_type": "code",
   "execution_count": 2,
   "id": "301356fa",
   "metadata": {
    "scrolled": true,
    "slideshow": {
     "slide_type": "fragment"
    }
   },
   "outputs": [
    {
     "name": "stdout",
     "output_type": "stream",
     "text": [
      "Find me at wapiflapi.com\n",
      "... and on linkedin as Wannes Rombouts\n"
     ]
    }
   ],
   "source": [
    "print(f\"Find me at {nickname}.com\")\n",
    "print(f\"... and on linkedin as {name}\")"
   ]
  },
  {
   "cell_type": "code",
   "execution_count": 3,
   "id": "914f393f",
   "metadata": {
    "slideshow": {
     "slide_type": "fragment"
    }
   },
   "outputs": [],
   "source": [
    "%reset -f"
   ]
  },
  {
   "cell_type": "code",
   "execution_count": 4,
   "id": "4845e1da",
   "metadata": {
    "slideshow": {
     "slide_type": "fragment"
    }
   },
   "outputs": [
    {
     "ename": "NameError",
     "evalue": "name 'name' is not defined",
     "output_type": "error",
     "traceback": [
      "\u001b[0;31m---------------------------------------------------------------------------\u001b[0m",
      "\u001b[0;31mNameError\u001b[0m                                 Traceback (most recent call last)",
      "Cell \u001b[0;32mIn[4], line 1\u001b[0m\n\u001b[0;32m----> 1\u001b[0m \u001b[38;5;28mprint\u001b[39m(\u001b[43mname\u001b[49m)\n",
      "\u001b[0;31mNameError\u001b[0m: name 'name' is not defined"
     ]
    }
   ],
   "source": [
    "print(name)"
   ]
  },
  {
   "cell_type": "markdown",
   "id": "fdd35305",
   "metadata": {
    "slideshow": {
     "slide_type": "notes"
    }
   },
   "source": [
    "*finish at 3min (1 min)*\n",
    "\n",
    "**Wannes Rombouts**\n",
    "- Expert Python,\n",
    "- Consultant, dev, conception, formation, ...\n",
    "- Je débloque les équipes chez mes clients.\n",
    "\n",
    "**Explain Jupyter**\n"
   ]
  },
  {
   "cell_type": "markdown",
   "id": "f7658c74",
   "metadata": {
    "slideshow": {
     "slide_type": "slide"
    }
   },
   "source": [
    "\n",
    "# Novice to Expert\n",
    "# State, Scope, Context\n"
   ]
  },
  {
   "cell_type": "markdown",
   "id": "a3e52817",
   "metadata": {
    "slideshow": {
     "slide_type": "notes"
    }
   },
   "source": [
    "*finish at 5min (2 min)*\n",
    "\n",
    "- This talk is going to start with basics\n",
    "- it’s going to get complicated quickly.\n",
    "\n",
    "- it is recorded and will be available for re-watch\n",
    "- It will be dense, the goal is to show you what exists.\n",
    "- You can look it up when you need it.\n",
    "\n",
    "- **For people that are familiar:**\n",
    "This will talk about context managers at some point.\n",
    "I will not use `@contexlib.contextmanager` decorator.\n",
    "You probably do / will. But it requires decorators and generators,\n",
    "and that is out of scope for this talk.\n",
    "Check out my talk in october 😛\n"
   ]
  },
  {
   "cell_type": "markdown",
   "id": "884d9863",
   "metadata": {
    "slideshow": {
     "slide_type": "slide"
    }
   },
   "source": [
    "# People start with code"
   ]
  },
  {
   "cell_type": "code",
   "execution_count": 89,
   "id": "84e30b10",
   "metadata": {
    "slideshow": {
     "slide_type": "-"
    }
   },
   "outputs": [],
   "source": [
    "%reset -f"
   ]
  },
  {
   "cell_type": "code",
   "execution_count": 91,
   "id": "cfde1027",
   "metadata": {},
   "outputs": [
    {
     "name": "stdout",
     "output_type": "stream",
     "text": [
      "alice  bob  charlie  charlie-updated  favorites\r\n"
     ]
    }
   ],
   "source": [
    "!ls data/"
   ]
  },
  {
   "cell_type": "code",
   "execution_count": 92,
   "id": "12932e0e",
   "metadata": {},
   "outputs": [
    {
     "name": "stdout",
     "output_type": "stream",
     "text": [
      "charlie\r\n"
     ]
    }
   ],
   "source": [
    "!cat data/favorites"
   ]
  },
  {
   "cell_type": "code",
   "execution_count": 93,
   "id": "500938ad",
   "metadata": {},
   "outputs": [
    {
     "name": "stdout",
     "output_type": "stream",
     "text": [
      "C\r\n"
     ]
    }
   ],
   "source": [
    "!cat data/charlie"
   ]
  },
  {
   "cell_type": "markdown",
   "id": "925ddf8a",
   "metadata": {},
   "source": [
    "**The example is not real and it is not \"complete\".**\n",
    "\n",
    "It's here only to give us something to work with.\n"
   ]
  },
  {
   "cell_type": "code",
   "execution_count": 5,
   "id": "d4bc8334",
   "metadata": {
    "slideshow": {
     "slide_type": "subslide"
    }
   },
   "outputs": [],
   "source": [
    "grades = {\"A\": 90, \"B\": 80, \"C\": 70, \"F\": 0}\n",
    "favorite_students = []\n",
    "for line in open(\"data/favorites\").readlines():\n",
    "    favorite_students.append(line.strip())\n",
    "for student in [\"alice\", \"bob\", \"charlie\"]:\n",
    "    if student in favorite_students:\n",
    "        f = open(f\"data/{student}\")\n",
    "        g = f.read().strip()\n",
    "        s = grades[g]\n",
    "        s = s + 10\n",
    "        f2 = open(f\"data/{student}-updated\", \"w\")\n",
    "        if s >= 90:\n",
    "            f2.write(\"A\\n\")\n",
    "        elif s >= 80:\n",
    "            f2.write(\"B\\n\")\n",
    "        else:\n",
    "            f2.write(\"F\\n\")            \n",
    "        f2.close()"
   ]
  },
  {
   "cell_type": "markdown",
   "id": "7908fbf3",
   "metadata": {
    "slideshow": {
     "slide_type": "notes"
    }
   },
   "source": [
    "*finish at 7min (2 min)*\n",
    "\n",
    "- They focus on state.\n",
    "- Python works with names / references, (not variables like in math)\n",
    "- It gets messy.\n",
    "- **It needs context.**\n",
    "The first goal should be to separate problem-specific data and other data."
   ]
  },
  {
   "cell_type": "markdown",
   "id": "6b1066ae",
   "metadata": {
    "slideshow": {
     "slide_type": "slide"
    }
   },
   "source": [
    "# Identify problem-specific things"
   ]
  },
  {
   "cell_type": "code",
   "execution_count": 6,
   "id": "5d923d80",
   "metadata": {
    "slideshow": {
     "slide_type": "subslide"
    }
   },
   "outputs": [],
   "source": [
    "grades = {\"A\": 90, \"B\": 80, \"C\": 70, \"F\": 0}\n",
    "\n",
    "# Get favorite students from a file\n",
    "favorite_students = []\n",
    "for line in open(\"data/favorites\").readlines():\n",
    "    favorite_students.append(line.strip())\n",
    "\n",
    "for student in [\"alice\", \"bob\", \"charlie\"]:\n",
    "    if student in favorite_students:  # cheat their score  \n",
    "        # Get student original grade\n",
    "        f = open(f\"data/{student}\")\n",
    "        original_grade = f.read().strip()\n",
    "        # Translate grade to score\n",
    "        original_score = grades[original_grade]\n",
    "        # Give the student ten bonus point\n",
    "        updated_score = original_score + 10\n",
    "        # Write student new grade to a file\n",
    "        f2 = open(f\"data/{student}-updated\", \"w\")\n",
    "        if updated_score >= 90:\n",
    "            f2.write(\"A\\n\")\n",
    "        elif updated_score >= 80:\n",
    "            f2.write(\"B\\n\")\n",
    "        else:\n",
    "            f2.write(\"F\\n\")            \n",
    "        f2.close()"
   ]
  },
  {
   "cell_type": "markdown",
   "id": "80db91b8",
   "metadata": {
    "slideshow": {
     "slide_type": "subslide"
    }
   },
   "source": [
    "## Figure out when you are doing two things at once"
   ]
  },
  {
   "cell_type": "code",
   "execution_count": 7,
   "id": "16e105dd",
   "metadata": {
    "slideshow": {
     "slide_type": "-"
    }
   },
   "outputs": [],
   "source": [
    "# Write student new grade to a file\n",
    "f2 = open(f\"data/{student}-updated\", \"w\")\n",
    "if updated_score >= 90:\n",
    "    f2.write(\"A\\n\")\n",
    "elif updated_score >= 80:\n",
    "    f2.write(\"B\\n\")\n",
    "else:\n",
    "    f2.write(\"F\\n\")            \n",
    "f2.close()"
   ]
  },
  {
   "cell_type": "code",
   "execution_count": 8,
   "id": "fc32c3b0",
   "metadata": {
    "slideshow": {
     "slide_type": "fragment"
    }
   },
   "outputs": [],
   "source": [
    "# Get student new grade\n",
    "if updated_score >= 90:\n",
    "    updated_grade = \"A\"\n",
    "elif updated_score >= 80:\n",
    "    updated_grade = \"B\"\n",
    "else:\n",
    "    updated_grade = \"F\"\n",
    "\n",
    "# Write new grade to file\n",
    "f2 = open(f\"data/{student}-updated\", \"w\")\n",
    "f2.write(f\"{updated_grade}\\n\")\n",
    "f2.close()"
   ]
  },
  {
   "cell_type": "markdown",
   "id": "27b3c608",
   "metadata": {
    "slideshow": {
     "slide_type": "notes"
    }
   },
   "source": [
    "*finish at 10min (3 min)*\n",
    "\n",
    "\n",
    "- Do this with naming and comments.\n",
    "- **The context becomes more explicit, it is “problem-specific”**\n",
    "- next: Comments are not context.\n"
   ]
  },
  {
   "cell_type": "markdown",
   "id": "0cbf8b4e",
   "metadata": {
    "slideshow": {
     "slide_type": "slide"
    }
   },
   "source": [
    "# Use functions instead of comments"
   ]
  },
  {
   "cell_type": "code",
   "execution_count": 10,
   "id": "4732579b",
   "metadata": {
    "slideshow": {
     "slide_type": "fragment"
    }
   },
   "outputs": [],
   "source": [
    "grades = {\"A\": 90, \"B\": 80, \"C\": 70, \"F\": 0}\n",
    "\n",
    "# Get favorite students from a file\n",
    "favorite_students = []\n",
    "for line in open(\"data/favorites\").readlines():\n",
    "    favorite_students.append(line.strip())\n"
   ]
  },
  {
   "cell_type": "code",
   "execution_count": 11,
   "id": "a5128165",
   "metadata": {
    "slideshow": {
     "slide_type": "fragment"
    }
   },
   "outputs": [],
   "source": [
    "grades = {\"A\": 90, \"B\": 80, \"C\": 70, \"F\": 0}\n",
    "\n",
    "def get_favorite_students_from_file():\n",
    "    favorite_students = []\n",
    "    for line in open(\"data/favorites\").readlines():\n",
    "        favorite_students.append(line.strip())\n",
    "    return favorite_students\n",
    "\n",
    "favorite_students = get_favorite_students_from_file()\n"
   ]
  },
  {
   "cell_type": "code",
   "execution_count": 12,
   "id": "7a53629e",
   "metadata": {
    "slideshow": {
     "slide_type": "subslide"
    }
   },
   "outputs": [],
   "source": [
    "\n",
    "for student in [\"alice\", \"bob\", \"charlie\"]:\n",
    "    if student in favorite_students:  # cheat their score\n",
    "        # Get student original grade\n",
    "        f = open(f\"data/{student}\")\n",
    "        original_grade = f.read().strip()\n",
    "        # Translate grade to score\n",
    "        original_score = grades[original_grade]\n",
    "        # Give the student ten bonus point\n",
    "        updated_score = original_score + 10\n",
    "        # Write student new grade to a file\n",
    "        f2 = open(f\"data/{student}-updated\", \"w\")\n",
    "        if updated_score >= 90:\n",
    "            f2.write(\"A\\n\")\n",
    "        elif updated_score >= 80:\n",
    "            f2.write(\"B\\n\")\n",
    "        else:\n",
    "            f2.write(\"F\\n\")            \n",
    "        f2.close()"
   ]
  },
  {
   "cell_type": "markdown",
   "id": "f48be9b5",
   "metadata": {
    "slideshow": {
     "slide_type": "subslide"
    }
   },
   "source": [
    "# Nested functions are a thing"
   ]
  },
  {
   "cell_type": "code",
   "execution_count": 13,
   "id": "a57ea6ac",
   "metadata": {
    "slideshow": {
     "slide_type": "fragment"
    }
   },
   "outputs": [],
   "source": [
    "for student in [\"alice\", \"bob\", \"charlie\"]:\n",
    "    if student in favorite_students:\n",
    "        \n",
    "        def cheat_their_score():\n",
    "\n",
    "            def get_original_grade_for_student():\n",
    "                f = open(f\"data/{student}\")\n",
    "                return f.read().strip()\n",
    "            original_grade = get_original_grade_for_student()\n",
    "\n",
    "            def translate_original_grade_to_score():\n",
    "                return grades[original_grade]\n",
    "            original_score = translate_original_grade_to_score()\n",
    "\n",
    "            def give_student_ten_bonus_points():\n",
    "                return original_score + 10\n",
    "            updated_score = give_student_ten_bonus_points()\n",
    "\n",
    "            def get_updated_grade_for_student():\n",
    "                if updated_score >= 90:\n",
    "                    return \"A\"\n",
    "                elif updated_score >= 80:\n",
    "                    return \"B\"\n",
    "                else:\n",
    "                    return \"F\"\n",
    "\n",
    "            updated_grade = get_updated_grade_for_student()\n",
    "\n",
    "            def write_updated_grade_to_file():\n",
    "                f2 = open(f\"data/{student}-updated\", \"w\")\n",
    "                f2.write(f\"{updated_grade}\\n\")\n",
    "                f2.close()\n",
    "\n",
    "            write_updated_grade_to_file()\n",
    "            \n",
    "        cheat_their_score()"
   ]
  },
  {
   "cell_type": "markdown",
   "id": "8dcfa889",
   "metadata": {
    "slideshow": {
     "slide_type": "slide"
    }
   },
   "source": [
    "# But let's make this flat"
   ]
  },
  {
   "cell_type": "code",
   "execution_count": 14,
   "id": "592e8b19",
   "metadata": {},
   "outputs": [],
   "source": [
    "%reset -f"
   ]
  },
  {
   "cell_type": "code",
   "execution_count": 16,
   "id": "c08c0528",
   "metadata": {},
   "outputs": [],
   "source": [
    "def get_favorite_students_from_file():\n",
    "    favorite_students = []\n",
    "    for line in open(\"data/favorites\").readlines():\n",
    "        favorite_students.append(line.strip())\n",
    "    return favorite_students\n",
    "\n",
    "def get_original_grade_for_student():\n",
    "    f = open(f\"data/{student}\")\n",
    "    return f.read().strip()\n",
    "\n",
    "def translate_original_grade_to_score():\n",
    "    return grades[original_grade]\n",
    "\n",
    "def give_student_ten_bonus_points():\n",
    "    return original_score + 10\n",
    "\n",
    "def get_updated_grade_for_student():\n",
    "    if updated_score >= 90:\n",
    "        return \"A\"\n",
    "    elif updated_score >= 80:\n",
    "        return \"B\"\n",
    "    else:\n",
    "        return \"F\"\n",
    "\n",
    "def write_updated_grade_to_file():\n",
    "    f2 = open(f\"data/{student}-updated\", \"w\")\n",
    "    f2.write(f\"{updated_grade}\\n\")\n",
    "    f2.close()\n",
    "\n",
    "def cheat_their_score():\n",
    "    original_grade = get_original_grade_for_student()\n",
    "    original_score = translate_original_grade_to_score()\n",
    "    updated_score = give_student_ten_bonus_points()\n",
    "    updated_grade = get_updated_grade_for_student()\n",
    "    write_updated_grade_to_file()"
   ]
  },
  {
   "cell_type": "code",
   "execution_count": 17,
   "id": "af4ac670",
   "metadata": {
    "slideshow": {
     "slide_type": "subslide"
    }
   },
   "outputs": [
    {
     "ename": "NameError",
     "evalue": "name 'original_grade' is not defined",
     "output_type": "error",
     "traceback": [
      "\u001b[0;31m---------------------------------------------------------------------------\u001b[0m",
      "\u001b[0;31mNameError\u001b[0m                                 Traceback (most recent call last)",
      "Cell \u001b[0;32mIn[17], line 6\u001b[0m\n\u001b[1;32m      4\u001b[0m \u001b[38;5;28;01mfor\u001b[39;00m student \u001b[38;5;129;01min\u001b[39;00m [\u001b[38;5;124m\"\u001b[39m\u001b[38;5;124malice\u001b[39m\u001b[38;5;124m\"\u001b[39m, \u001b[38;5;124m\"\u001b[39m\u001b[38;5;124mbob\u001b[39m\u001b[38;5;124m\"\u001b[39m, \u001b[38;5;124m\"\u001b[39m\u001b[38;5;124mcharlie\u001b[39m\u001b[38;5;124m\"\u001b[39m]:\n\u001b[1;32m      5\u001b[0m     \u001b[38;5;28;01mif\u001b[39;00m student \u001b[38;5;129;01min\u001b[39;00m favorite_students:            \n\u001b[0;32m----> 6\u001b[0m         \u001b[43mcheat_their_score\u001b[49m\u001b[43m(\u001b[49m\u001b[43m)\u001b[49m\n",
      "Cell \u001b[0;32mIn[16], line 32\u001b[0m, in \u001b[0;36mcheat_their_score\u001b[0;34m()\u001b[0m\n\u001b[1;32m     30\u001b[0m \u001b[38;5;28;01mdef\u001b[39;00m \u001b[38;5;21mcheat_their_score\u001b[39m():\n\u001b[1;32m     31\u001b[0m     original_grade \u001b[38;5;241m=\u001b[39m get_original_grade_for_student()\n\u001b[0;32m---> 32\u001b[0m     original_score \u001b[38;5;241m=\u001b[39m \u001b[43mtranslate_original_grade_to_score\u001b[49m\u001b[43m(\u001b[49m\u001b[43m)\u001b[49m\n\u001b[1;32m     33\u001b[0m     updated_score \u001b[38;5;241m=\u001b[39m give_student_ten_bonus_points()\n\u001b[1;32m     34\u001b[0m     updated_grade \u001b[38;5;241m=\u001b[39m get_updated_grade_for_student()\n",
      "Cell \u001b[0;32mIn[16], line 12\u001b[0m, in \u001b[0;36mtranslate_original_grade_to_score\u001b[0;34m()\u001b[0m\n\u001b[1;32m     11\u001b[0m \u001b[38;5;28;01mdef\u001b[39;00m \u001b[38;5;21mtranslate_original_grade_to_score\u001b[39m():\n\u001b[0;32m---> 12\u001b[0m     \u001b[38;5;28;01mreturn\u001b[39;00m grades[\u001b[43moriginal_grade\u001b[49m]\n",
      "\u001b[0;31mNameError\u001b[0m: name 'original_grade' is not defined"
     ]
    }
   ],
   "source": [
    "grades = {\"A\": 90, \"B\": 80, \"C\": 70, \"F\": 0}\n",
    "favorite_students = get_favorite_students_from_file()\n",
    "\n",
    "for student in [\"alice\", \"bob\", \"charlie\"]:\n",
    "    if student in favorite_students:            \n",
    "        cheat_their_score()"
   ]
  },
  {
   "cell_type": "code",
   "execution_count": 19,
   "id": "79371cbb",
   "metadata": {
    "slideshow": {
     "slide_type": "subslide"
    }
   },
   "outputs": [],
   "source": [
    "def translate_original_grade_to_score():\n",
    "    return grades[original_grade]\n",
    "\n",
    "def cheat_their_score():\n",
    "    original_grade = get_original_grade_for_student()\n",
    "    original_score = translate_original_grade_to_score()\n",
    "    # [...]"
   ]
  },
  {
   "cell_type": "code",
   "execution_count": 20,
   "id": "2b6b32b2",
   "metadata": {
    "slideshow": {
     "slide_type": "fragment"
    }
   },
   "outputs": [],
   "source": [
    "# It used to be:\n",
    "\n",
    "for student in [\"alice\", \"bob\", \"charlie\"]:\n",
    "    if student in favorite_students:\n",
    "        \n",
    "        def cheat_their_score():\n",
    "\n",
    "            def get_original_grade_for_student():\n",
    "                f = open(f\"data/{student}\")\n",
    "                return f.read().strip()\n",
    "            original_grade = get_original_grade_for_student()\n",
    "\n",
    "            def translate_original_grade_to_score():\n",
    "                return grades[original_grade]\n",
    "            original_score = translate_original_grade_to_score()"
   ]
  },
  {
   "cell_type": "markdown",
   "id": "c78fa1ff",
   "metadata": {
    "slideshow": {
     "slide_type": "slide"
    }
   },
   "source": [
    "# Don't rely on nonlocal scope"
   ]
  },
  {
   "cell_type": "code",
   "execution_count": 21,
   "id": "9a9ff7fe",
   "metadata": {},
   "outputs": [],
   "source": [
    "%reset -f"
   ]
  },
  {
   "cell_type": "code",
   "execution_count": 22,
   "id": "e05fe8f8",
   "metadata": {
    "slideshow": {
     "slide_type": "-"
    }
   },
   "outputs": [],
   "source": [
    "def translate_original_grade_to_score():\n",
    "    return grades[original_grade]"
   ]
  },
  {
   "cell_type": "code",
   "execution_count": 23,
   "id": "a7d208b5",
   "metadata": {},
   "outputs": [],
   "source": [
    "def translate_grade_to_score(grade, grades):\n",
    "    return grades[grade]"
   ]
  },
  {
   "cell_type": "code",
   "execution_count": 24,
   "id": "4de13fe4",
   "metadata": {
    "slideshow": {
     "slide_type": "subslide"
    }
   },
   "outputs": [],
   "source": [
    "def give_student_ten_bonus_points():\n",
    "    return original_score + 10"
   ]
  },
  {
   "cell_type": "code",
   "execution_count": 24,
   "id": "883c3174",
   "metadata": {},
   "outputs": [],
   "source": [
    "def give_ten_bonus_points(score):\n",
    "    return score + 10"
   ]
  },
  {
   "cell_type": "markdown",
   "id": "3e0ad0f9",
   "metadata": {
    "slideshow": {
     "slide_type": "notes"
    }
   },
   "source": [
    "*finish at 12min (2 min)*\n",
    "\n",
    "- Other data should be in a different scope, where they become problem-specific.\n",
    "- That scope should be a function named with the comment it replaces.\n",
    "- NOTE: people say functions are for “repeat behavior”. WRONG.\n",
    "Most of my functions are called only once.\n",
    "They are to hide stuff. To change context.\n",
    "- **The context becomes more explicit, it is named.**\n"
   ]
  },
  {
   "cell_type": "markdown",
   "id": "295eb7b3",
   "metadata": {
    "slideshow": {
     "slide_type": "slide"
    }
   },
   "source": [
    "# What do we have now ?"
   ]
  },
  {
   "cell_type": "code",
   "execution_count": 25,
   "id": "b32dc2cd",
   "metadata": {
    "slideshow": {
     "slide_type": "-"
    }
   },
   "outputs": [],
   "source": [
    "%reset -f"
   ]
  },
  {
   "cell_type": "code",
   "execution_count": 26,
   "id": "77485847",
   "metadata": {
    "slideshow": {
     "slide_type": "subslide"
    }
   },
   "outputs": [],
   "source": [
    "def translate_grade_to_score(grade, grades):\n",
    "    return grades[grade]\n",
    "\n",
    "def give_ten_bonus_points(score):\n",
    "    return score + 10\n",
    "\n",
    "def get_grade(score):\n",
    "    if score >= 90:\n",
    "        return \"A\"\n",
    "    elif score >= 80:\n",
    "        return \"B\"\n",
    "    else:\n",
    "        return \"F\"\n",
    "    \n",
    "def get_original_grade_for_student(student):\n",
    "    f = open(f\"data/{student}\")\n",
    "    return f.read().strip()\n",
    "\n",
    "def set_updated_grade_for_student(student, grade):\n",
    "    f2 = open(f\"data/{student}-updated\", \"w\")\n",
    "    f2.write(f\"{grade}\\n\")\n",
    "    f2.close()\n",
    "    \n",
    "def cheat_student_score(student, grades):\n",
    "    original_grade = get_original_grade_for_student(student)\n",
    "    original_score = translate_grade_to_score(original_grade, grades)\n",
    "    updated_score = give_ten_bonus_points(original_score)\n",
    "    updated_grade = get_grade(updated_score)\n",
    "    set_updated_grade_for_student(student, updated_grade)\n",
    "    \n",
    "cheat_student_score(\"charlie\", {\"A\": 90, \"B\": 80, \"C\": 70})"
   ]
  },
  {
   "cell_type": "markdown",
   "id": "11e04ac6",
   "metadata": {
    "slideshow": {
     "slide_type": "notes"
    }
   },
   "source": [
    "*finish at xxmin (x min)*\n",
    "\n",
    "- Rename things so that we are not overly specific.\n"
   ]
  },
  {
   "cell_type": "markdown",
   "id": "f238d9bc",
   "metadata": {
    "slideshow": {
     "slide_type": "slide"
    }
   },
   "source": [
    "# Avoid \"pass-through\" arguments"
   ]
  },
  {
   "cell_type": "code",
   "execution_count": 27,
   "id": "29d8e623",
   "metadata": {
    "slideshow": {
     "slide_type": "-"
    }
   },
   "outputs": [],
   "source": [
    "def cheat_student_score(student, grades):\n",
    "    original_grade = get_original_grade_for_student(student)\n",
    "    original_score = translate_grade_to_score(original_grade, grades)\n",
    "    # ..."
   ]
  },
  {
   "cell_type": "code",
   "execution_count": 28,
   "id": "31d3be9e",
   "metadata": {
    "slideshow": {
     "slide_type": "fragment"
    }
   },
   "outputs": [],
   "source": [
    "# get_score_for_grade depends on context (on grades)\n",
    "# it's not always the same:\n",
    "\n",
    "def cheat_student_score(student, get_score_for_grade):\n",
    "    original_grade = get_original_grade_for_student(student)\n",
    "    original_score = get_score_for_grade(original_grade)\n",
    "    # ...\n",
    "    "
   ]
  },
  {
   "cell_type": "code",
   "execution_count": 32,
   "id": "8c3e84f0",
   "metadata": {
    "slideshow": {
     "slide_type": "subslide"
    }
   },
   "outputs": [
    {
     "name": "stdout",
     "output_type": "stream",
     "text": [
      "a=1, b=2, c=3\n"
     ]
    }
   ],
   "source": [
    "import functools\n",
    "\n",
    "\n",
    "def test(a, b, c):\n",
    "    print(f\"{a=}, {b=}, {c=}\")\n",
    "    \n",
    "test(1, 2, 3)"
   ]
  },
  {
   "cell_type": "code",
   "execution_count": 34,
   "id": "cb603a59",
   "metadata": {
    "slideshow": {
     "slide_type": "-"
    }
   },
   "outputs": [
    {
     "name": "stdout",
     "output_type": "stream",
     "text": [
      "a=10, b=2, c=3\n"
     ]
    }
   ],
   "source": [
    "\n",
    "test_a10 = functools.partial(test, 10)\n",
    "\n",
    "test_a10(2, 3)"
   ]
  },
  {
   "cell_type": "code",
   "execution_count": 29,
   "id": "2dbcfaf3",
   "metadata": {
    "slideshow": {
     "slide_type": "-"
    }
   },
   "outputs": [
    {
     "ename": "NameError",
     "evalue": "name 'functools' is not defined",
     "output_type": "error",
     "traceback": [
      "\u001b[0;31m---------------------------------------------------------------------------\u001b[0m",
      "\u001b[0;31mNameError\u001b[0m                                 Traceback (most recent call last)",
      "Cell \u001b[0;32mIn[29], line 1\u001b[0m\n\u001b[0;32m----> 1\u001b[0m test_b20_c30 \u001b[38;5;241m=\u001b[39m \u001b[43mfunctools\u001b[49m\u001b[38;5;241m.\u001b[39mpartial(test, b\u001b[38;5;241m=\u001b[39m\u001b[38;5;241m20\u001b[39m, c\u001b[38;5;241m=\u001b[39m\u001b[38;5;241m30\u001b[39m)\n\u001b[1;32m      3\u001b[0m test_b20_c30(\u001b[38;5;241m1\u001b[39m)\n",
      "\u001b[0;31mNameError\u001b[0m: name 'functools' is not defined"
     ]
    }
   ],
   "source": [
    "\n",
    "test_b20_c30 = functools.partial(test, b=20, c=30)\n",
    "\n",
    "test_b20_c30(1)"
   ]
  },
  {
   "cell_type": "code",
   "execution_count": 33,
   "id": "952cca5e",
   "metadata": {
    "slideshow": {
     "slide_type": "slide"
    }
   },
   "outputs": [],
   "source": [
    "\n",
    "grades = {\"A\": 90, \"B\": 80, \"C\": 70}\n",
    "\n",
    "get_score_for_grade = functools.partial(\n",
    "    # Our original translate function:\n",
    "    translate_grade_to_score,\n",
    "    # \"pre configured\" with our grades.\n",
    "    grades=grades,\n",
    ")"
   ]
  },
  {
   "cell_type": "code",
   "execution_count": 35,
   "id": "c9e59ba5",
   "metadata": {
    "slideshow": {
     "slide_type": "-"
    }
   },
   "outputs": [],
   "source": [
    "cheat_student_score(\"charlie\", get_score_for_grade=get_score_for_grade)"
   ]
  },
  {
   "cell_type": "code",
   "execution_count": 36,
   "id": "0a887a34",
   "metadata": {
    "slideshow": {
     "slide_type": "subslide"
    }
   },
   "outputs": [],
   "source": [
    "grades = {\"A\": 90, \"B\": 80, \"C\": 70}\n",
    "\n",
    "grades[\"A\"] == grades.get(\"A\")\n",
    "\n",
    "cheat_student_score(\"charlie\", get_score_for_grade=grades.get)"
   ]
  },
  {
   "cell_type": "markdown",
   "id": "454431a5",
   "metadata": {
    "slideshow": {
     "slide_type": "slide"
    }
   },
   "source": [
    "## What about student ? "
   ]
  },
  {
   "cell_type": "code",
   "execution_count": 37,
   "id": "47fb6c4f",
   "metadata": {},
   "outputs": [],
   "source": [
    "def cheat_student_score(student, get_score_for_grade):\n",
    "    \n",
    "    # We only use student to pass it through\n",
    "    original_grade = get_original_grade_for_student(student)\n",
    "    \n",
    "    original_score = get_score_for_grade(original_grade) \n",
    "    updated_score = give_ten_bonus_points(original_score)\n",
    "    updated_grade = get_grade(updated_score)\n",
    "\n",
    "    # We only use student to pass it through\n",
    "    set_updated_grade_for_student(student, updated_grade)"
   ]
  },
  {
   "cell_type": "code",
   "execution_count": 38,
   "id": "a0f791e1",
   "metadata": {
    "slideshow": {
     "slide_type": "fragment"
    }
   },
   "outputs": [],
   "source": [
    "def cheat_score(get_original_grade, set_updated_grade, get_score_for_grade):\n",
    "    \n",
    "    original_grade = get_original_grade()\n",
    "    \n",
    "    original_score = get_score_for_grade(original_grade)\n",
    "    updated_score = give_ten_bonus_points(original_score)\n",
    "    updated_grade = get_grade(updated_score)\n",
    "\n",
    "    set_updated_grade(updated_grade)"
   ]
  },
  {
   "cell_type": "code",
   "execution_count": 39,
   "id": "9eff49d9",
   "metadata": {
    "slideshow": {
     "slide_type": "subslide"
    }
   },
   "outputs": [],
   "source": [
    "import functools\n",
    "\n",
    "grades = {\"A\": 90, \"B\": 80, \"C\": 70, \"F\": 0}\n",
    "student = \"charlie\"\n",
    "\n",
    "\n",
    "get_original_grade = functools.partial(\n",
    "    get_original_grade_for_student,\n",
    "    student,\n",
    ")\n",
    "\n",
    "set_updated_grade = functools.partial(\n",
    "    set_updated_grade_for_student,\n",
    "    student,\n",
    ")\n",
    "\n",
    "cheat_score(get_original_grade, set_updated_grade, get_score_for_grade=grades.get)"
   ]
  },
  {
   "cell_type": "code",
   "execution_count": 41,
   "id": "f3e2d856",
   "metadata": {
    "slideshow": {
     "slide_type": "subslide"
    }
   },
   "outputs": [
    {
     "ename": "AttributeError",
     "evalue": "'str' object has no attribute 'something'",
     "output_type": "error",
     "traceback": [
      "\u001b[0;31m---------------------------------------------------------------------------\u001b[0m",
      "\u001b[0;31mAttributeError\u001b[0m                            Traceback (most recent call last)",
      "Cell \u001b[0;32mIn[41], line 6\u001b[0m\n\u001b[1;32m      2\u001b[0m get_score_for_grade \u001b[38;5;241m=\u001b[39m grades\u001b[38;5;241m.\u001b[39mget\n\u001b[1;32m      4\u001b[0m \u001b[38;5;66;03m# Why not:\u001b[39;00m\n\u001b[0;32m----> 6\u001b[0m get_original_grade \u001b[38;5;241m=\u001b[39m \u001b[43mstudent\u001b[49m\u001b[38;5;241;43m.\u001b[39;49m\u001b[43msomething\u001b[49m \u001b[38;5;66;03m# ? \u001b[39;00m\n",
      "\u001b[0;31mAttributeError\u001b[0m: 'str' object has no attribute 'something'"
     ]
    }
   ],
   "source": [
    "grades = {\"A\": 90, \"B\": 80, \"C\": 70}\n",
    "get_score_for_grade = grades.get\n",
    "\n",
    "# Why not:\n",
    "\n",
    "get_original_grade = student.something # ? \n"
   ]
  },
  {
   "cell_type": "markdown",
   "id": "d7e7e49a",
   "metadata": {
    "slideshow": {
     "slide_type": "notes"
    }
   },
   "source": [
    "*finish at 15min (3 min)*\n",
    "\n",
    "- Notice when data is passed through but not used.\n",
    "- Replace with `functools.partial`.\n",
    "- **The context becomes more specific, it’s a specialised calllable**\n",
    "- NOTE: This work swell with sorted, filter, etc."
   ]
  },
  {
   "cell_type": "markdown",
   "id": "358e44bf",
   "metadata": {
    "slideshow": {
     "slide_type": "slide"
    }
   },
   "source": [
    "# Use objects instead of partial"
   ]
  },
  {
   "cell_type": "code",
   "execution_count": 46,
   "id": "a58b09fb",
   "metadata": {
    "slideshow": {
     "slide_type": "-"
    }
   },
   "outputs": [],
   "source": [
    "\n",
    "class Student(str):\n",
    "\n",
    "    def get_original_grade_for_student(student):\n",
    "        f = open(f\"data/{student}\")\n",
    "        return f.read().strip()\n",
    "\n",
    "    def set_updated_grade_for_student(student, grade):\n",
    "        f2 = open(f\"data/{student}-updated\", \"w\")\n",
    "        f2.write(f\"{grade}\\n\")\n",
    "        f2.close()\n"
   ]
  },
  {
   "cell_type": "code",
   "execution_count": 47,
   "id": "803d4681",
   "metadata": {
    "slideshow": {
     "slide_type": "fragment"
    }
   },
   "outputs": [],
   "source": [
    "student = Student(\"charlie\")\n",
    "\n",
    "cheat_score(\n",
    "    get_original_grade=student.get_original_grade_for_student,\n",
    "    set_updated_grade=student.set_updated_grade_for_student,\n",
    "    get_score_for_grade=grades.get,\n",
    ")"
   ]
  },
  {
   "cell_type": "code",
   "execution_count": 48,
   "id": "437aaa48",
   "metadata": {
    "slideshow": {
     "slide_type": "subslide"
    }
   },
   "outputs": [],
   "source": [
    "\n",
    "class Student(str):\n",
    "\n",
    "    def get_original_grade_for_student(student):\n",
    "        f = open(f\"data/{student}\")\n",
    "        return f.read().strip()\n",
    "\n",
    "    def set_updated_grade_for_student(student, grade):\n",
    "        f2 = open(f\"data/{student}-updated\", \"w\")\n",
    "        f2.write(f\"{grade}\\n\")\n",
    "        f2.close()\n",
    "        \n",
    "    # - \"x_for_student\" is redundant."
   ]
  },
  {
   "cell_type": "code",
   "execution_count": 49,
   "id": "4d19ed73",
   "metadata": {
    "slideshow": {
     "slide_type": "fragment"
    }
   },
   "outputs": [],
   "source": [
    "\n",
    "class Student(str):\n",
    "\n",
    "    def get_original_grade(self):\n",
    "        f = open(f\"data/{self}\")\n",
    "        return f.read().strip()\n",
    "\n",
    "    def set_updated_grade(self, grade):\n",
    "        f2 = open(f\"data/{self}-updated\", \"w\")\n",
    "        f2.write(f\"{grade}\\n\")\n",
    "        f2.close()\n",
    "        \n",
    "    # We also renamed the first argument to \"self\"\n"
   ]
  },
  {
   "cell_type": "code",
   "execution_count": 50,
   "id": "2ce576f6",
   "metadata": {
    "slideshow": {
     "slide_type": "subslide"
    }
   },
   "outputs": [],
   "source": [
    "\n",
    "class Student(str):\n",
    "    pass\n",
    "\n",
    "# This is not very clean...\n",
    "# A student might be more than it's name !\n"
   ]
  },
  {
   "cell_type": "code",
   "execution_count": 55,
   "id": "f7562d39",
   "metadata": {
    "slideshow": {
     "slide_type": "subslide"
    }
   },
   "outputs": [],
   "source": [
    "\n",
    "class Student:\n",
    "    \n",
    "    def __init__(self, name):\n",
    "        self.name = name\n",
    "    \n",
    "    def get_original_grade(self):\n",
    "        f = open(f\"data/{self.name}\")\n",
    "        return f.read().strip()\n",
    "\n",
    "    def set_updated_grade(self, grade):\n",
    "        f2 = open(f\"data/{self.name}-updated\", \"w\")\n",
    "        f2.write(f\"{grade}\\n\")\n",
    "        f2.close()\n",
    " "
   ]
  },
  {
   "cell_type": "code",
   "execution_count": 56,
   "id": "24747cbb",
   "metadata": {
    "slideshow": {
     "slide_type": "subslide"
    }
   },
   "outputs": [],
   "source": [
    "for name in [\"alice\", \"bob\", \"charlie\"]:\n",
    "    if name in favorite_students:\n",
    "        student = Student(name)\n",
    "        student.cheat_score(get_score_for_grade=grades.get)"
   ]
  },
  {
   "cell_type": "markdown",
   "id": "50f8c809",
   "metadata": {
    "slideshow": {
     "slide_type": "notes"
    }
   },
   "source": [
    "*finish at 15min (3 min)*\n",
    "\n",
    "- Functions are not only for repeat behavior,\n",
    "- They create scope.\n",
    "- Objects are not only for repeat instances,\n",
    "- They create scope.\n"
   ]
  },
  {
   "cell_type": "markdown",
   "id": "8a9d671c",
   "metadata": {
    "slideshow": {
     "slide_type": "slide"
    }
   },
   "source": [
    "\n",
    "\n",
    "# Readable code:\n",
    "\n",
    "### Functions provide compile-time scope\n",
    "### Objects provide runtime scope\n",
    "\n"
   ]
  },
  {
   "cell_type": "markdown",
   "id": "846945cf",
   "metadata": {},
   "source": [
    "# What about usable interfaces ?"
   ]
  },
  {
   "cell_type": "code",
   "execution_count": 51,
   "id": "4a1c863a",
   "metadata": {
    "slideshow": {
     "slide_type": "slide"
    }
   },
   "outputs": [],
   "source": [
    "class Session:\n",
    "\n",
    "    def start(self, name):\n",
    "        self.magic = name\n",
    "    \n",
    "    def do_something(self):\n",
    "        print(f\"Doing things with {self.magic=}\")\n",
    "    \n",
    "    def stop(self):\n",
    "        print(\"Good thing you called me.\")\n",
    "        \n",
    "\n",
    "# You've seen code like that? files, databases, apis, etc.\n",
    "# Where the documentation tells you what to do ?"
   ]
  },
  {
   "cell_type": "code",
   "execution_count": 53,
   "id": "99bc98b3",
   "metadata": {
    "slideshow": {
     "slide_type": "fragment"
    }
   },
   "outputs": [
    {
     "name": "stdout",
     "output_type": "stream",
     "text": [
      "Doing things with self.magic='demo'\n",
      "Good thing you called me.\n"
     ]
    }
   ],
   "source": [
    "session = Session()\n",
    "\n",
    "session.start(\"demo\")\n",
    "session.do_something()\n",
    "session.stop()"
   ]
  },
  {
   "cell_type": "code",
   "execution_count": 55,
   "id": "1959431c",
   "metadata": {
    "slideshow": {
     "slide_type": "slide"
    }
   },
   "outputs": [
    {
     "ename": "AttributeError",
     "evalue": "'Session' object has no attribute 'magic'",
     "output_type": "error",
     "traceback": [
      "\u001b[0;31m---------------------------------------------------------------------------\u001b[0m",
      "\u001b[0;31mAttributeError\u001b[0m                            Traceback (most recent call last)",
      "Cell \u001b[0;32mIn[55], line 3\u001b[0m\n\u001b[1;32m      1\u001b[0m session \u001b[38;5;241m=\u001b[39m Session()\n\u001b[0;32m----> 3\u001b[0m \u001b[43msession\u001b[49m\u001b[38;5;241;43m.\u001b[39;49m\u001b[43mdo_something\u001b[49m\u001b[43m(\u001b[49m\u001b[43m)\u001b[49m\n",
      "Cell \u001b[0;32mIn[51], line 7\u001b[0m, in \u001b[0;36mSession.do_something\u001b[0;34m(self)\u001b[0m\n\u001b[1;32m      6\u001b[0m \u001b[38;5;28;01mdef\u001b[39;00m \u001b[38;5;21mdo_something\u001b[39m(\u001b[38;5;28mself\u001b[39m):\n\u001b[0;32m----> 7\u001b[0m     \u001b[38;5;28mprint\u001b[39m(\u001b[38;5;124mf\u001b[39m\u001b[38;5;124m\"\u001b[39m\u001b[38;5;124mDoing things with \u001b[39m\u001b[38;5;132;01m{\u001b[39;00m\u001b[38;5;28;43mself\u001b[39;49m\u001b[38;5;241;43m.\u001b[39;49m\u001b[43mmagic\u001b[49m\u001b[38;5;132;01m=}\u001b[39;00m\u001b[38;5;124m\"\u001b[39m)\n",
      "\u001b[0;31mAttributeError\u001b[0m: 'Session' object has no attribute 'magic'"
     ]
    }
   ],
   "source": [
    "session = Session()\n",
    "\n",
    "session.do_something()"
   ]
  },
  {
   "cell_type": "markdown",
   "id": "b963693c",
   "metadata": {},
   "source": [
    "# I was supposed to know that."
   ]
  },
  {
   "cell_type": "code",
   "execution_count": 57,
   "id": "0ce2f790",
   "metadata": {
    "slideshow": {
     "slide_type": "slide"
    }
   },
   "outputs": [
    {
     "name": "stdout",
     "output_type": "stream",
     "text": [
      "Doing things with self.magic='demo'\n"
     ]
    },
    {
     "ename": "ZeroDivisionError",
     "evalue": "division by zero",
     "output_type": "error",
     "traceback": [
      "\u001b[0;31m---------------------------------------------------------------------------\u001b[0m",
      "\u001b[0;31mZeroDivisionError\u001b[0m                         Traceback (most recent call last)",
      "Cell \u001b[0;32mIn[57], line 5\u001b[0m\n\u001b[1;32m      3\u001b[0m session\u001b[38;5;241m.\u001b[39mstart(\u001b[38;5;124m\"\u001b[39m\u001b[38;5;124mdemo\u001b[39m\u001b[38;5;124m\"\u001b[39m)\n\u001b[1;32m      4\u001b[0m session\u001b[38;5;241m.\u001b[39mdo_something()\n\u001b[0;32m----> 5\u001b[0m \u001b[38;5;241;43m1\u001b[39;49m\u001b[43m \u001b[49m\u001b[38;5;241;43m/\u001b[39;49m\u001b[43m \u001b[49m\u001b[38;5;241;43m0\u001b[39;49m\n\u001b[1;32m      7\u001b[0m \u001b[38;5;66;03m# Don't forget to call stop ! \u001b[39;00m\n\u001b[1;32m      8\u001b[0m session\u001b[38;5;241m.\u001b[39mstop()\n",
      "\u001b[0;31mZeroDivisionError\u001b[0m: division by zero"
     ]
    }
   ],
   "source": [
    "session = Session()\n",
    "\n",
    "session.start(\"demo\")\n",
    "session.do_something()\n",
    "1 / 0\n",
    "\n",
    "# Don't forget to call stop ! \n",
    "session.stop()"
   ]
  },
  {
   "cell_type": "markdown",
   "id": "03129b19",
   "metadata": {},
   "source": [
    "# That's getting tricky"
   ]
  },
  {
   "cell_type": "markdown",
   "id": "f850bba9",
   "metadata": {
    "slideshow": {
     "slide_type": "notes"
    }
   },
   "source": [
    "*finish at 22min (2 min)*\n",
    "\n",
    "- documentation like “use X before Y, finish with Z” is bad\n",
    "- It doesn’t work with exceptions, returns, unexpected program termination, etc.\n"
   ]
  },
  {
   "cell_type": "markdown",
   "id": "d3b12b4d",
   "metadata": {
    "slideshow": {
     "slide_type": "slide"
    }
   },
   "source": [
    "# How can we make this explicit ?"
   ]
  },
  {
   "cell_type": "code",
   "execution_count": 58,
   "id": "a670ef90",
   "metadata": {
    "scrolled": true
   },
   "outputs": [
    {
     "name": "stdout",
     "output_type": "stream",
     "text": [
      "A\n",
      "\n"
     ]
    }
   ],
   "source": [
    "f = open(\"data/alice\")\n",
    "print(f.read())\n",
    "f.close()"
   ]
  },
  {
   "cell_type": "code",
   "execution_count": 59,
   "id": "a56ba885",
   "metadata": {
    "slideshow": {
     "slide_type": "fragment"
    }
   },
   "outputs": [
    {
     "name": "stdout",
     "output_type": "stream",
     "text": [
      "A\n",
      "\n"
     ]
    }
   ],
   "source": [
    "with open(\"data/alice\") as f:\n",
    "    print(f.read())"
   ]
  },
  {
   "cell_type": "markdown",
   "id": "86fc5490",
   "metadata": {
    "slideshow": {
     "slide_type": "subslide"
    }
   },
   "source": [
    "# How does that work ?"
   ]
  },
  {
   "cell_type": "code",
   "execution_count": 60,
   "id": "ffc13619",
   "metadata": {},
   "outputs": [],
   "source": [
    "class ContextManager:\n",
    "\n",
    "    def __init__(self, something):\n",
    "        print(f\"__init__({something=})\")\n",
    "    \n",
    "    def __enter__(self):\n",
    "        print(f\"__enter__()\")\n",
    "\n",
    "    def __exit__(self, type, value, traceback):\n",
    "        print(f\"__exit__({type=}, {value=}, {traceback=})\")\n"
   ]
  },
  {
   "cell_type": "code",
   "execution_count": 63,
   "id": "b37d30b7",
   "metadata": {
    "slideshow": {
     "slide_type": "fragment"
    }
   },
   "outputs": [
    {
     "name": "stdout",
     "output_type": "stream",
     "text": [
      "__init__(something='data')\n",
      "__enter__()\n",
      "__exit__(type=None, value=None, traceback=None)\n"
     ]
    }
   ],
   "source": [
    "cm = ContextManager(\"data\")\n",
    "\n",
    "with cm:\n",
    "    pass  # Do things."
   ]
  },
  {
   "cell_type": "markdown",
   "id": "d82a92f5",
   "metadata": {
    "slideshow": {
     "slide_type": "subslide"
    }
   },
   "source": [
    "# It works with exceptions"
   ]
  },
  {
   "cell_type": "code",
   "execution_count": 65,
   "id": "642f0172",
   "metadata": {
    "slideshow": {
     "slide_type": "-"
    }
   },
   "outputs": [
    {
     "name": "stdout",
     "output_type": "stream",
     "text": [
      "__init__(something='data')\n",
      "__enter__()\n",
      "__exit__(type=<class 'ZeroDivisionError'>, value=ZeroDivisionError('division by zero'), traceback=<traceback object at 0x7f4130b0b640>)\n"
     ]
    },
    {
     "ename": "ZeroDivisionError",
     "evalue": "division by zero",
     "output_type": "error",
     "traceback": [
      "\u001b[0;31m---------------------------------------------------------------------------\u001b[0m",
      "\u001b[0;31mZeroDivisionError\u001b[0m                         Traceback (most recent call last)",
      "Cell \u001b[0;32mIn[65], line 2\u001b[0m\n\u001b[1;32m      1\u001b[0m \u001b[38;5;28;01mwith\u001b[39;00m ContextManager(\u001b[38;5;124m\"\u001b[39m\u001b[38;5;124mdata\u001b[39m\u001b[38;5;124m\"\u001b[39m):\n\u001b[0;32m----> 2\u001b[0m     \u001b[38;5;241;43m1\u001b[39;49m\u001b[43m \u001b[49m\u001b[38;5;241;43m/\u001b[39;49m\u001b[43m \u001b[49m\u001b[38;5;241;43m0\u001b[39;49m\n",
      "\u001b[0;31mZeroDivisionError\u001b[0m: division by zero"
     ]
    }
   ],
   "source": [
    "with ContextManager(\"data\"):\n",
    "    1 / 0\n"
   ]
  },
  {
   "cell_type": "code",
   "execution_count": 68,
   "id": "4a184139",
   "metadata": {
    "slideshow": {
     "slide_type": "subslide"
    }
   },
   "outputs": [],
   "source": [
    "class ContextManager:\n",
    "    \n",
    "    def __enter__(self):\n",
    "        return \"some-useful-context\"\n",
    "\n",
    "    def __exit__(self, type, value, traceback):\n",
    "        pass\n",
    "    "
   ]
  },
  {
   "cell_type": "code",
   "execution_count": 70,
   "id": "a18e7cef",
   "metadata": {
    "slideshow": {
     "slide_type": "fragment"
    }
   },
   "outputs": [
    {
     "name": "stdout",
     "output_type": "stream",
     "text": [
      "\n",
      "context='some-useful-context'\n",
      "\n"
     ]
    }
   ],
   "source": [
    "with ContextManager() as context:\n",
    "    print(f\"\\n{context=}\\n\")"
   ]
  },
  {
   "cell_type": "markdown",
   "id": "ec8827de",
   "metadata": {},
   "source": [
    "# Users become aware of context !"
   ]
  },
  {
   "cell_type": "markdown",
   "id": "53cd42bc",
   "metadata": {
    "slideshow": {
     "slide_type": "notes"
    }
   },
   "source": [
    "*finish at 25min (3 min)*\n",
    "\n",
    "- ******************************************************************Explicit is better than implicit.******************************************************************\n",
    "- Use `with` with a context manager.\n",
    "- what is `__enter__` and `__exit__`\n",
    "- ************************************************************users are aware of the context************************************************************"
   ]
  },
  {
   "cell_type": "markdown",
   "id": "e51706cf",
   "metadata": {
    "slideshow": {
     "slide_type": "slide"
    }
   },
   "source": [
    "# Don’t give up. Use tools"
   ]
  },
  {
   "cell_type": "code",
   "execution_count": 71,
   "id": "c5df0937",
   "metadata": {
    "slideshow": {
     "slide_type": "fragment"
    }
   },
   "outputs": [],
   "source": [
    "with (\n",
    "    open(\"data/alice\") as alice_file,\n",
    "    open(\"data/bob\") as bob_file,\n",
    "    open(\"data/charlie\") as charlie_file,\n",
    "):\n",
    "    pass  # Do something with those files, they will all be closed."
   ]
  },
  {
   "cell_type": "code",
   "execution_count": 75,
   "id": "fb9fe988",
   "metadata": {
    "slideshow": {
     "slide_type": "slide"
    }
   },
   "outputs": [],
   "source": [
    "import contextlib\n",
    "import os\n",
    "\n",
    "\n",
    "def do_something(use_dir: str):\n",
    "    \n",
    "    with contextlib.chdir(use_dir):\n",
    "        print(f\"Doing something in {os.getcwd()}\")"
   ]
  },
  {
   "cell_type": "code",
   "execution_count": 73,
   "id": "a6372ff8",
   "metadata": {},
   "outputs": [
    {
     "name": "stdout",
     "output_type": "stream",
     "text": [
      "Doing something in /home/wapiflapi/Documents/python/talk-scope\n"
     ]
    }
   ],
   "source": [
    "do_something(\".\")"
   ]
  },
  {
   "cell_type": "code",
   "execution_count": 76,
   "id": "d29cb1d6",
   "metadata": {},
   "outputs": [
    {
     "name": "stdout",
     "output_type": "stream",
     "text": [
      "Doing something in /tmp\n"
     ]
    }
   ],
   "source": [
    " do_something(\"/tmp/\")"
   ]
  },
  {
   "cell_type": "code",
   "execution_count": 77,
   "id": "697403ff",
   "metadata": {
    "slideshow": {
     "slide_type": "slide"
    }
   },
   "outputs": [],
   "source": [
    "import contextlib\n",
    "import os\n",
    "\n",
    "\n",
    "def do_something(use_dir: str | None = None):\n",
    "    \n",
    "    def really_do_something():\n",
    "        print(f\"Doing something in {os.getcwd()}\")\n",
    "    \n",
    "    if use_dir is None:\n",
    "        really_do_something()\n",
    "    else:\n",
    "        with contextlib.chdir(use_dir):\n",
    "            really_do_something()\n"
   ]
  },
  {
   "cell_type": "code",
   "execution_count": 78,
   "id": "0a17ee40",
   "metadata": {
    "slideshow": {
     "slide_type": "fragment"
    }
   },
   "outputs": [
    {
     "name": "stdout",
     "output_type": "stream",
     "text": [
      "Doing something in /home/wapiflapi/Documents/python/talk-scope\n"
     ]
    }
   ],
   "source": [
    "do_something()"
   ]
  },
  {
   "cell_type": "code",
   "execution_count": 88,
   "id": "37a3a7da",
   "metadata": {},
   "outputs": [
    {
     "name": "stdout",
     "output_type": "stream",
     "text": [
      "Doing something in /tmp\n"
     ]
    }
   ],
   "source": [
    "do_something(use_dir=\"/tmp/\")"
   ]
  },
  {
   "cell_type": "code",
   "execution_count": 80,
   "id": "cbb1cff1",
   "metadata": {
    "slideshow": {
     "slide_type": "slide"
    }
   },
   "outputs": [
    {
     "ename": "TypeError",
     "evalue": "'generator' object does not support the context manager protocol",
     "output_type": "error",
     "traceback": [
      "\u001b[0;31m---------------------------------------------------------------------------\u001b[0m",
      "\u001b[0;31mTypeError\u001b[0m                                 Traceback (most recent call last)",
      "Cell \u001b[0;32mIn[80], line 3\u001b[0m\n\u001b[1;32m      1\u001b[0m file_names \u001b[38;5;241m=\u001b[39m [\u001b[38;5;124m\"\u001b[39m\u001b[38;5;124mdata/alice\u001b[39m\u001b[38;5;124m\"\u001b[39m, \u001b[38;5;124m\"\u001b[39m\u001b[38;5;124mdata/bob\u001b[39m\u001b[38;5;124m\"\u001b[39m, \u001b[38;5;124m\"\u001b[39m\u001b[38;5;124mdata/charlie\u001b[39m\u001b[38;5;124m\"\u001b[39m]\n\u001b[0;32m----> 3\u001b[0m \u001b[38;5;28;43;01mwith\u001b[39;49;00m\u001b[43m \u001b[49m\u001b[43m(\u001b[49m\u001b[38;5;28;43mopen\u001b[39;49m\u001b[43m(\u001b[49m\u001b[43mname\u001b[49m\u001b[43m)\u001b[49m\u001b[43m \u001b[49m\u001b[38;5;28;43;01mfor\u001b[39;49;00m\u001b[43m \u001b[49m\u001b[43mname\u001b[49m\u001b[43m \u001b[49m\u001b[38;5;129;43;01min\u001b[39;49;00m\u001b[43m \u001b[49m\u001b[43mfile_names\u001b[49m\u001b[43m)\u001b[49m\u001b[43m:\u001b[49m\n\u001b[1;32m      4\u001b[0m \u001b[43m    \u001b[49m\u001b[38;5;28;43;01mpass\u001b[39;49;00m\n",
      "\u001b[0;31mTypeError\u001b[0m: 'generator' object does not support the context manager protocol"
     ]
    }
   ],
   "source": [
    "file_names = [\"data/alice\", \"data/bob\", \"data/charlie\"]\n",
    "\n",
    "with (open(name) for name in file_names):\n",
    "    pass"
   ]
  },
  {
   "cell_type": "markdown",
   "id": "8fce2930",
   "metadata": {
    "slideshow": {
     "slide_type": "slide"
    }
   },
   "source": [
    "# Use ExitStack"
   ]
  },
  {
   "cell_type": "code",
   "execution_count": 81,
   "id": "b07e0f3b",
   "metadata": {
    "slideshow": {
     "slide_type": "subslide"
    }
   },
   "outputs": [],
   "source": [
    "import contextlib\n",
    "import os\n",
    "\n",
    "\n",
    "def do_something(use_dir: str | None = None):\n",
    "    \n",
    "    with contextlib.ExitStack() as stack:\n",
    "        \n",
    "        if use_dir is not None:\n",
    "            context = contextlib.chdir(use_dir)\n",
    "            stack.enter_context(context)\n",
    "    \n",
    "        print(f\"Doing something in {os.getcwd()}\")"
   ]
  },
  {
   "cell_type": "code",
   "execution_count": 82,
   "id": "fc960cda",
   "metadata": {},
   "outputs": [
    {
     "name": "stdout",
     "output_type": "stream",
     "text": [
      "Doing something in /home/wapiflapi/Documents/python/talk-scope\n"
     ]
    }
   ],
   "source": [
    "do_something()"
   ]
  },
  {
   "cell_type": "code",
   "execution_count": 83,
   "id": "b62a5b47",
   "metadata": {},
   "outputs": [
    {
     "name": "stdout",
     "output_type": "stream",
     "text": [
      "Doing something in /tmp\n"
     ]
    }
   ],
   "source": [
    "do_something(use_dir=\"/tmp/\")"
   ]
  },
  {
   "cell_type": "code",
   "execution_count": 87,
   "id": "c31adee2",
   "metadata": {
    "slideshow": {
     "slide_type": "subslide"
    }
   },
   "outputs": [
    {
     "name": "stdout",
     "output_type": "stream",
     "text": [
      "[<_io.TextIOWrapper name='data/alice' mode='r' encoding='UTF-8'>, <_io.TextIOWrapper name='data/bob' mode='r' encoding='UTF-8'>, <_io.TextIOWrapper name='data/charlie' mode='r' encoding='UTF-8'>]\n"
     ]
    }
   ],
   "source": [
    "file_names = [\"data/alice\", \"data/bob\", \"data/charlie\"]\n",
    "\n",
    "\n",
    "with contextlib.ExitStack() as stack:\n",
    "    files = [\n",
    "        stack.enter_context(open(file_name))\n",
    "        for file_name in file_names\n",
    "    ]\n",
    "    \n",
    "    print(files)\n"
   ]
  },
  {
   "cell_type": "markdown",
   "id": "064232d6",
   "metadata": {
    "slideshow": {
     "slide_type": "notes"
    }
   },
   "source": [
    "*finish at 27min (2 min)*\n",
    "\n",
    "- What if things get complicated\n",
    "- three different files ? Ok, just use with with commas\n",
    "- what about an optional context ? Or an arbitrary number of contexts ?\n",
    "- Introduce an Exit Stack\n",
    "- example of an optional chdir to a fixed name, or tmpdir."
   ]
  },
  {
   "cell_type": "markdown",
   "id": "54d82eba",
   "metadata": {
    "slideshow": {
     "slide_type": "slide"
    }
   },
   "source": [
    "# Context is not problem-specific logic"
   ]
  },
  {
   "cell_type": "code",
   "execution_count": 92,
   "id": "e4628c23",
   "metadata": {},
   "outputs": [],
   "source": [
    "def do_something(file_names: list[str], use_dir: str | None = None):\n",
    "    \n",
    "    # Setup some context for chdir and open\n",
    "    with contextlib.ExitStack() as stack:\n",
    "    \n",
    "        # Maybe change directories\n",
    "        if use_dir is not None:\n",
    "            context = contextlib.chdir(use_dir)\n",
    "            stack.enter_context(context)\n",
    "\n",
    "        # Open our files\n",
    "        files = [\n",
    "            stack.enter_context(open(file_name))\n",
    "            for file_name in file_names\n",
    "        ]\n",
    "\n",
    "        # Actually do something ! \n",
    "        print(f\"Doing something in {os.getcwd()}\")\n",
    "        print(f\"Using {files}\")\n",
    "      "
   ]
  },
  {
   "cell_type": "code",
   "execution_count": 93,
   "id": "3709a0dc",
   "metadata": {
    "slideshow": {
     "slide_type": "slide"
    }
   },
   "outputs": [],
   "source": [
    "import functools\n",
    "import contextlib\n",
    "\n",
    "\n",
    "@contextlib.contextmanager\n",
    "def get_files(file_names: list[str], use_dir: str | None = None):\n",
    "    \n",
    "    with contextlib.ExitStack() as stack:\n",
    "        if use_dir is not None:\n",
    "            context = contextlib.chdir(use_dir)\n",
    "            stack.enter_context(context)\n",
    "\n",
    "        yield [\n",
    "            open(file_name)\n",
    "            for file_name in file_names\n",
    "        ]"
   ]
  },
  {
   "cell_type": "code",
   "execution_count": 95,
   "id": "60eb0cd0",
   "metadata": {
    "slideshow": {
     "slide_type": "fragment"
    }
   },
   "outputs": [],
   "source": [
    "def do_something(file_names: list[str], use_dir: str | None = None):\n",
    "    \n",
    "    with get_files(file_names=file_names, use_dir=use_dir) as files:        \n",
    "        # Actually do something ! \n",
    "        print(f\"Doing something in {os.getcwd()}\")\n",
    "        print(f\"Using {files}\")\n"
   ]
  },
  {
   "cell_type": "code",
   "execution_count": null,
   "id": "427c4e01",
   "metadata": {
    "slideshow": {
     "slide_type": "fragment"
    }
   },
   "outputs": [],
   "source": [
    "do_something([\"data/alice\", \"data/bob\", \"data/charlie\"])"
   ]
  },
  {
   "cell_type": "code",
   "execution_count": 97,
   "id": "49667c0a",
   "metadata": {
    "slideshow": {
     "slide_type": "subslide"
    }
   },
   "outputs": [],
   "source": [
    "\n",
    "def do_something(get_files):\n",
    "    \n",
    "    with get_files() as files:        \n",
    "        # Actually do something ! \n",
    "        print(f\"Doing something in {os.getcwd()}\")\n",
    "        print(f\"Using {files}\")"
   ]
  },
  {
   "cell_type": "code",
   "execution_count": 98,
   "id": "8dd388db",
   "metadata": {
    "slideshow": {
     "slide_type": "fragment"
    }
   },
   "outputs": [
    {
     "name": "stdout",
     "output_type": "stream",
     "text": [
      "Doing something in /home/wapiflapi/Documents/python/talk-scope\n",
      "Using [<_io.TextIOWrapper name='data/alice' mode='r' encoding='UTF-8'>, <_io.TextIOWrapper name='data/bob' mode='r' encoding='UTF-8'>, <_io.TextIOWrapper name='data/charlie' mode='r' encoding='UTF-8'>]\n"
     ]
    }
   ],
   "source": [
    "get_files_for_context = functools.partial(\n",
    "    get_files,\n",
    "    file_names=[\"data/alice\", \"data/bob\", \"data/charlie\"],\n",
    "    use_dir=\".\",\n",
    ")\n",
    "        \n",
    "do_something(get_files_for_context)"
   ]
  },
  {
   "cell_type": "code",
   "execution_count": 99,
   "id": "8af5e8a8",
   "metadata": {
    "slideshow": {
     "slide_type": "slide"
    }
   },
   "outputs": [],
   "source": [
    "import dataclasses\n",
    "\n",
    "\n",
    "@dataclasses.dataclass\n",
    "class Settings:\n",
    "    \n",
    "    file_names: list[str]\n",
    "    use_dir: str | None\n",
    "        \n",
    "\n",
    "    @contextlib.contextmanager\n",
    "    def get_files(self):\n",
    "\n",
    "        with contextlib.ExitStack() as stack:\n",
    "            if self.use_dir is not None:\n",
    "                context = contextlib.chdir(self.use_dir)\n",
    "                stack.enter_context(context)\n",
    "\n",
    "            yield [\n",
    "                open(file_name)\n",
    "                for file_name in self.file_names\n",
    "            ]"
   ]
  },
  {
   "cell_type": "code",
   "execution_count": 100,
   "id": "c033b1ef",
   "metadata": {
    "slideshow": {
     "slide_type": "slide"
    }
   },
   "outputs": [
    {
     "name": "stdout",
     "output_type": "stream",
     "text": [
      "Doing something in /home/wapiflapi/Documents/python/talk-scope\n",
      "Using [<_io.TextIOWrapper name='data/alice' mode='r' encoding='UTF-8'>, <_io.TextIOWrapper name='data/bob' mode='r' encoding='UTF-8'>, <_io.TextIOWrapper name='data/charlie' mode='r' encoding='UTF-8'>]\n"
     ]
    }
   ],
   "source": [
    "\n",
    "settings = Settings(\n",
    "    file_names=[\"data/alice\", \"data/bob\", \"data/charlie\"],\n",
    "    use_dir=\".\",\n",
    ")\n",
    "        \n",
    "do_something(settings.get_files)\n",
    "        "
   ]
  },
  {
   "cell_type": "markdown",
   "id": "f3da4c52",
   "metadata": {
    "slideshow": {
     "slide_type": "notes"
    }
   },
   "source": [
    "*finish at 30min (3 min)*\n",
    "- **separate context logic from problem-specific logic.**\n",
    "- Fun fact: The docs say so ;) this is a low level tool.\n",
    "- We still have the data for that stuff mixed with our problem-specific data.\n",
    "- **Problem-specific logic should not setup context**\n",
    "- introduce dependency injection\n",
    "- use a repository pattern\n",
    "- integrate it with settings\n",
    "- **Context should be managable from the outside**"
   ]
  },
  {
   "cell_type": "markdown",
   "id": "2ac3fc95",
   "metadata": {
    "slideshow": {
     "slide_type": "slide"
    }
   },
   "source": [
    "## Functions provide compile-time scope\n",
    "## Objects provide runtime scope"
   ]
  },
  {
   "cell_type": "markdown",
   "id": "1011a185",
   "metadata": {
    "slideshow": {
     "slide_type": "fragment"
    }
   },
   "source": [
    "## Context is setup + tear-down\n",
    "## Use dependency injection for runtime context"
   ]
  },
  {
   "cell_type": "markdown",
   "id": "965467cd",
   "metadata": {
    "slideshow": {
     "slide_type": "notes"
    }
   },
   "source": [
    "# Things I did not cover\n",
    "\n",
    "- There are only three keywords in python that are not compiled to bytecode.\n",
    "- How does scope work in python ? global, local, nonlocal\n",
    "- Notice when data is passed along together.\n",
    "    - There is a better way than lists or tuples.\n",
    "    - Introduce and types.namespace.\n",
    "    - ********************************************This defines more context of how things relate in the real world.********************************************\n",
    "- explain `__new__`, `__init__` and `__del__`\n",
    "    - **This is context for the lifecycle of the object.\n",
    "    → each instance is a different context.**\n",
    "\n",
    "- Show a Context implementation with `__init__` and `__del__`\n",
    "    - Explain why this is a very bad idea.\n",
    "- In other languages: `goto` in C, `defer` in go\n",
    "- Limits and possible evolutions of ExitPool:\n",
    "Something like ExitPool, where you can exit arbitrary contexts.\n",
    "Useful when you don’t know in advance which contexts will be short-lived.\n",
    "(I talked about repository and settings instead)\n",
    "- Under the hood:\n",
    "Disassembly of context managers. Do it yourself with `dis`.\n",
    "Also look at local, nonlocal and global names in scopes, it’s interesting.\n",
    "(I talked about pitfalls of `__del__` instead)"
   ]
  },
  {
   "cell_type": "code",
   "execution_count": 105,
   "id": "37bd0824",
   "metadata": {},
   "outputs": [
    {
     "name": "stdout",
     "output_type": "stream",
     "text": [
      "              0 MAKE_CELL                2 (a)\n",
      "\n",
      "  1           2 RESUME                   0\n",
      "\n",
      "  2           4 LOAD_CONST               1 (10)\n",
      "              6 STORE_DEREF              2 (a)\n",
      "\n",
      "  4           8 LOAD_CONST               2 (0)\n",
      "             10 LOAD_CONST               0 (None)\n",
      "             12 IMPORT_NAME              0 (os)\n",
      "             14 STORE_FAST               0 (os)\n",
      "\n",
      "  5          16 LOAD_CLOSURE             2 (a)\n",
      "             18 BUILD_TUPLE              1\n",
      "             20 LOAD_CONST               3 (<code object foo at 0x7f4130cb1230, file \"/tmp/ipykernel_3918/1150332919.py\", line 5>)\n",
      "             22 MAKE_FUNCTION            8 (closure)\n",
      "             24 STORE_FAST               1 (foo)\n",
      "             26 LOAD_CONST               0 (None)\n",
      "             28 RETURN_VALUE\n",
      "\n",
      "Disassembly of <code object foo at 0x7f4130cb1230, file \"/tmp/ipykernel_3918/1150332919.py\", line 5>:\n",
      "              0 COPY_FREE_VARS           1\n",
      "\n",
      "  5           2 RESUME                   0\n",
      "\n",
      "  8           4 LOAD_CONST               0 (None)\n",
      "              6 RETURN_VALUE\n"
     ]
    }
   ],
   "source": [
    "\n",
    "def _():\n",
    "    a = 10\n",
    "    \n",
    "    import os\n",
    "    def foo():\n",
    "        global a\n",
    "        \n",
    "        pass\n",
    "        \n",
    "import dis\n",
    "dis.dis(_)"
   ]
  }
 ],
 "metadata": {
  "celltoolbar": "Slideshow",
  "kernelspec": {
   "display_name": "Python 3 (ipykernel)",
   "language": "python",
   "name": "python3"
  },
  "language_info": {
   "codemirror_mode": {
    "name": "ipython",
    "version": 3
   },
   "file_extension": ".py",
   "mimetype": "text/x-python",
   "name": "python",
   "nbconvert_exporter": "python",
   "pygments_lexer": "ipython3",
   "version": "3.11.0rc1"
  },
  "rise": {
   "scroll": true
  }
 },
 "nbformat": 4,
 "nbformat_minor": 5
}
